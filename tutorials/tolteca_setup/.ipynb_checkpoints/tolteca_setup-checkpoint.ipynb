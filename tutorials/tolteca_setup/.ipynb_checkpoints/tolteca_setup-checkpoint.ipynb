{
 "cells": [
  {
   "cell_type": "markdown",
   "id": "received-treaty",
   "metadata": {},
   "source": [
    "# Create workdir and load RuntimeContext\n",
    "\n",
    "Authors: Zhiyuan Ma\n",
    "\n",
    "## Objectives\n",
    "\n",
    "* Learn the concept of workdir and `tolteca.utils.RuntimeContext`.\n",
    "* Create workdir with `tolteca setup` commandline.\n",
    "* Create workdir and load `RuntimeContext` with Python API.\n",
    "* Load `RuntimeContext` in-memory without workdir.\n",
    "* Use `RuntimeContext` to access config dict and runtime info.\n",
    "* Use `RuntimeContext.setup` to persist runtime info.\n",
    "\n",
    "## Keywords\n",
    "\n",
    "General; Environment; Commandline interface\n",
    "\n",
    "## Summary\n",
    "\n",
    "In this tutorial, we will walk through the concept and use of the so-called \"tolteca workdir\", as well as the `tolteca.utils.RuntimeContext` class which interacts with it programatically.\n",
    "\n",
    "A tolteca workdir is a directory prepared by tolteca, which contains special sub-directory structure and files that are recognized and managed by the tolteca package.\n",
    "\n",
    "Tolteca workdir provides the user experience similar to a python virtual environemnt. User can create many workdirs, each of which has its own config setup for a certain task or project.\n",
    "\n",
    "Tolteca workdir plays a central role for all the commandline interface\n",
    "commands tolteca provides. When the `tolteca ...` command is invoked, a `tolteca.utils.ConfigLoader` object is created (the instance is made available through global variable `tolteca.cli.config_loader`), and the `ConfigLoader.runtime_context_dir` property carries the path to the current workdir to be loaded. By default, the `runtime_context_dir` is set to current directory, but can be specified via `tolteca -d <workdir> ...`.\n",
    "\n",
    "Commandline functionalities (`tolteca.simu`, `tolteca.reduce`, etc.) invoked through the `tolteca ...` commandline interface makes use of the `runtime_context_dir` to initialize a `RuntimeContext` object, through which it pulls in any configs user may have specified in the workdir and carries on the execution.\n",
    "\n",
    "The tolteca workdir provides the isolation and persistence for keeping track of the software version and config dicts, which are needed for easy re-producing of previous results. Therefore, this is the recommended way of running analysis that involves a lot of config items and data files.\n",
    "\n",
    "`RuntimeContext` can also be created with config dict or config file directly in-memory, without the presence or use of workdir. This mode can be useful when the tolteca submodules which expects a `RuntimeContext` object, but are used by other scripts or modules, which have their own config dict and runtime info management plan."
   ]
  },
  {
   "cell_type": "markdown",
   "id": "scheduled-advertising",
   "metadata": {},
   "source": [
    "## Create tolteca workdir\n",
    "\n",
    "### Commandline interface (recommended)\n",
    "\n",
    "The creation of tolteca workdir is typically done with the commandline:\n",
    "\n",
    "```\n",
    "$ tolteca -d workdir0 setup\n",
    "```\n",
    "\n",
    "This will create a directory named `workdir0` in the current directory, with some initial contents similar to:\n",
    "\n",
    "```\n",
    "$ cd workdir0 && ls\n",
    "40_setup.yaml README.md bin/ cal/ doc/ log/\n",
    "```\n",
    "\n",
    "Run `tolteca setup -h` to see a full list of commandline options.\n",
    "\n",
    "### Python API\n",
    "\n",
    "For the purpose of this tutorial, we can, however, create the workdir directly using the Python API provided by tolteca.\n",
    "\n",
    "To make the tutorial independent of any user's own system setup, we use a temporary directory:"
   ]
  },
  {
   "cell_type": "code",
   "execution_count": 1,
   "id": "large-vision",
   "metadata": {},
   "outputs": [
    {
     "name": "stdout",
     "output_type": "stream",
     "text": [
      "Workdir path: /var/folders/zc/33kgh8vx3z37kpp6xf84bzvm0000gn/T/tmpc8ex2dsd\n",
      "Contents of workdir: []\n"
     ]
    }
   ],
   "source": [
    "import tempfile\n",
    "from pathlib import Path\n",
    "from contextlib import ExitStack\n",
    "\n",
    "es = ExitStack()  # to manage the tempdir\n",
    "workdir = Path(es.enter_context(tempfile.TemporaryDirectory()))\n",
    "print(f\"Workdir path: {workdir}\")\n",
    "print(f\"Contents of workdir: {list(workdir.iterdir())}\")"
   ]
  },
  {
   "cell_type": "markdown",
   "id": "hollow-murray",
   "metadata": {},
   "source": [
    "Now that we have an empty directory that we want to use as the workdir, we can proceed to populate the directory just like the `tolteca setup` command did. This is done by `Runtimecontext.from_dir`:"
   ]
  },
  {
   "cell_type": "code",
   "execution_count": 2,
   "id": "white-edgar",
   "metadata": {},
   "outputs": [
    {
     "name": "stdout",
     "output_type": "stream",
     "text": [
      "Created runtime context: RuntimeContext(/private/var/folders/zc/33kgh8vx3z37kpp6xf84bzvm0000gn/T/tmpc8ex2dsd)\n",
      "Contents of workdir after rc creation:\n",
      "['bin', 'cal', 'README.md', 'log', 'doc', '40_setup.yaml']\n"
     ]
    }
   ],
   "source": [
    "from tolteca.utils import RuntimeContext, RuntimeContextError\n",
    "\n",
    "# note: the from_dir may fail to re-run, because there may be files already\n",
    "# in the temp folder from previous run. So we use the following\n",
    "# try except so it re-loads the runtime context if already exists.\n",
    "try:\n",
    "    rc = RuntimeContext.from_dir(dirpath=workdir, create=True)\n",
    "    print(f'Created runtime context: {rc}')\n",
    "except RuntimeContextError:\n",
    "    rc = RuntimeContext(workdir)\n",
    "print(f'Contents of workdir after rc creation:\\n{[p.name for p in workdir.iterdir()]}')"
   ]
  },
  {
   "cell_type": "markdown",
   "id": "coral-tuner",
   "metadata": {},
   "source": [
    "## Load RuntimeContext\n",
    "\n",
    "We've already touched the `RuntimeContext.from_dir` factory method in the previous section for creating the workdir in Python. The method returns an instance that is mapped to the just-created workdir.\n",
    "\n",
    "In general, instances of `RuntimeContext` class can be constrcuted in a number of ways that may or may not relie on actual files on the file system.\n",
    "\n",
    "### Construct with workdir\n",
    "\n",
    "`RuntimeContext` object can be constructed with existing workdir:"
   ]
  },
  {
   "cell_type": "code",
   "execution_count": 3,
   "id": "thermal-group",
   "metadata": {},
   "outputs": [
    {
     "name": "stdout",
     "output_type": "stream",
     "text": [
      "Loaded runtime context: RuntimeContext(/private/var/folders/zc/33kgh8vx3z37kpp6xf84bzvm0000gn/T/tmpc8ex2dsd)\n"
     ]
    }
   ],
   "source": [
    "rc = RuntimeContext(workdir)\n",
    "print(f\"Loaded runtime context: {rc}\")"
   ]
  },
  {
   "cell_type": "markdown",
   "id": "careful-exercise",
   "metadata": {},
   "source": [
    "Note that this would raise exception if the workdir does not have all the pre-defined contents:"
   ]
  },
  {
   "cell_type": "code",
   "execution_count": 4,
   "id": "western-change",
   "metadata": {},
   "outputs": [
    {
     "name": "stdout",
     "output_type": "stream",
     "text": [
      "error loading rc: unable to initialize DirConf from /private/var/folders/zc/33kgh8vx3z37kpp6xf84bzvm0000gn/T/tmpkfpjus6j: missing bindir /private/var/folders/zc/33kgh8vx3z37kpp6xf84bzvm0000gn/T/tmpkfpjus6j/bin. Set create=True to create missing items\n"
     ]
    }
   ],
   "source": [
    "try:\n",
    "    rc = RuntimeContext(es.enter_context(tempfile.TemporaryDirectory()))\n",
    "except Exception as e:\n",
    "    print(f\"error loading rc: {e}\")"
   ]
  },
  {
   "cell_type": "markdown",
   "id": "innovative-sphere",
   "metadata": {},
   "source": [
    "### Construct with config file\n",
    "\n",
    "`RuntimeContext` object can be created with config dict provided as YAML file:"
   ]
  },
  {
   "cell_type": "code",
   "execution_count": 5,
   "id": "muslim-devon",
   "metadata": {},
   "outputs": [
    {
     "name": "stdout",
     "output_type": "stream",
     "text": [
      "Loaded runtime context from YAML file: RuntimeContext(/private/var/folders/zc/33kgh8vx3z37kpp6xf84bzvm0000gn/T/tmpc8ex2dsd/some_config.yaml)\n"
     ]
    }
   ],
   "source": [
    "# create a new file in the workdir named some_config.yaml\n",
    "some_config_yaml_file = workdir.joinpath('some_config.yaml')\n",
    "\n",
    "with open(some_config_yaml_file, 'w'):\n",
    "    pass\n",
    "# load the runtime context from this yaml file\n",
    "rc_some_config_yaml = RuntimeContext(some_config_yaml_file)\n",
    "print(f\"Loaded runtime context from YAML file: {rc_some_config_yaml}\")"
   ]
  },
  {
   "cell_type": "markdown",
   "id": "available-delight",
   "metadata": {},
   "source": [
    "### Construct with Python dict\n",
    "\n",
    "`RuntimeContext` object can be created directly with config dict:"
   ]
  },
  {
   "cell_type": "code",
   "execution_count": 6,
   "id": "established-stevens",
   "metadata": {},
   "outputs": [
    {
     "name": "stdout",
     "output_type": "stream",
     "text": [
      "Loaded runtime context from dict: RuntimeContext(*None)\n"
     ]
    }
   ],
   "source": [
    "some_config_dict = {'my_key': 'my_value'}\n",
    "\n",
    "# load the runtime context from this dict\n",
    "rc_some_config_dict = RuntimeContext(some_config_dict)\n",
    "print(f\"Loaded runtime context from dict: {rc_some_config_dict}\")"
   ]
  },
  {
   "cell_type": "markdown",
   "id": "damaged-terminal",
   "metadata": {},
   "source": [
    "## Use RuntimeContext\n",
    "\n",
    "The `RuntimeContext` object provies interface to access the config dict and a runtime info dict.\n",
    "\n",
    "The config dict contains the infomation from the valid YAML config files in the workdir, the YAML config file, or the config dict, depending on the property `config_backend`, whose type is one of the subclasses of `tolteca.utils.runtime_context.ConfigBackend`, which in turn depending on the argument type passed to the constructor.\n",
    "\n",
    "Regardless of the config backend type, the `RuntimeContext` provides a set of common attributes that are important to the consumer of it.\n",
    "\n",
    "### RuntimeContext.config"
   ]
  },
  {
   "cell_type": "code",
   "execution_count": 7,
   "id": "funded-twenty",
   "metadata": {},
   "outputs": [
    {
     "name": "stdout",
     "output_type": "stream",
     "text": [
      "Keys in RuntimeContext.config dict:\n",
      "rc from workdir:\n",
      "  ['_40_setup', 'runtime_info']\n",
      "rc from yaml file:\n",
      "  ['runtime_info']\n",
      "rc from config dict:\n",
      "  ['my_key', 'runtime_info']\n"
     ]
    }
   ],
   "source": [
    "print(\"Keys in RuntimeContext.config dict:\")\n",
    "print(f\"rc from workdir:\\n  {list(rc.config.keys())}\")\n",
    "print(f\"rc from yaml file:\\n  {list(rc_some_config_yaml.config.keys())}\")\n",
    "print(f\"rc from config dict:\\n  {list(rc_some_config_dict.config.keys())}\")"
   ]
  },
  {
   "cell_type": "markdown",
   "id": "athletic-episode",
   "metadata": {},
   "source": [
    "While the config dicts from the rc objects we created all contain an entry named `runtime_info` (see next paragraph for details about the runtime info dict), each of them have the contents from the config source:\n",
    "\n",
    "* rc from workdir: The `_40_setup` key comes from the YAML config file `40_setup.yaml` automatically generated as part of the workdir creation.\n",
    "\n",
    "* rc from YAML config file: `runtime_info` is the only key in the config dict, because we did not put any thing in the `some_config.yaml` file when we created it.\n",
    "\n",
    "* rc from config dict: `my_key` is the key we put in the config `some_config_dict` we passed to the constructor."
   ]
  },
  {
   "cell_type": "markdown",
   "id": "seasonal-douglas",
   "metadata": {},
   "source": [
    "### RuntimeContext.runtime_info"
   ]
  },
  {
   "cell_type": "code",
   "execution_count": 8,
   "id": "wired-packing",
   "metadata": {},
   "outputs": [
    {
     "name": "stdout",
     "output_type": "stream",
     "text": [
      "Content of RuntimeContext.runtime_info:\n",
      "\n",
      "bindir: /private/var/folders/zc/33kgh8vx3z37kpp6xf84bzvm0000gn/T/tmpc8ex2dsd/bin\n",
      "caldir: /private/var/folders/zc/33kgh8vx3z37kpp6xf84bzvm0000gn/T/tmpc8ex2dsd/cal\n",
      "cmd: /usr/local/Cellar/python@3.8/3.8.12_1/envs/tolteca/lib/python3.8/site-packages/ipykernel_launcher.py\n",
      "  -f /Users/ma/Library/Jupyter/runtime/kernel-4d1b02aa-fc08-4197-8510-9893fb065ad9.json\n",
      "config_info:\n",
      "  env_files: []\n",
      "  load_sys_config: true\n",
      "  load_user_config: true\n",
      "  runtime_context_dir: /private/var/folders/zc/33kgh8vx3z37kpp6xf84bzvm0000gn/T/tmpc8ex2dsd\n",
      "  standalone_config_files: []\n",
      "  sys_config_path: /Users/ma/Codes/toltec/py/tolteca/tolteca/data/tolteca.yaml\n",
      "  user_config_path: /Users/ma/Library/Application Support/tolteca/tolteca.yaml\n",
      "created_at: '2022-01-31 14:44:31.417909'\n",
      "exec_path: /usr/local/Cellar/python@3.8/3.8.12_1/envs/tolteca/lib/python3.8/site-packages/ipykernel_launcher.py\n",
      "hostname: Zhiyuans-MacBook-Pro.local\n",
      "logdir: /private/var/folders/zc/33kgh8vx3z37kpp6xf84bzvm0000gn/T/tmpc8ex2dsd/log\n",
      "python_prefix: /usr/local/Cellar/python@3.8/3.8.12_1/envs/tolteca\n",
      "setup_info:\n",
      "  config: {}\n",
      "  created_at: '2022-01-31 14:44:31.418280'\n",
      "username: ma\n",
      "version: 1.0.3.dev4+g687a0b7.d20220131\n",
      "\n"
     ]
    }
   ],
   "source": [
    "from tollan.utils.fmt import pformat_yaml\n",
    "print(\"Content of RuntimeContext.runtime_info:\")\n",
    "print(f\"{pformat_yaml(rc.runtime_info.to_dict())}\")"
   ]
  },
  {
   "cell_type": "markdown",
   "id": "corporate-breathing",
   "metadata": {},
   "source": [
    "The `runtime_info` property holds a `tolteca.utils.runtime_context.RuntimeInfo` object that capures information related to the current execution enviroments, which is often necessary to keep track of for book-keeping purpose and for repeating the analysis.\n",
    "\n",
    "The same runtime info object is also present in the config dict `RuntimeContext.config`, under the key `runtime_info`.\n",
    "\n",
    "Note that runtime info is *always* dynamically created for each call of the RuntimeContext constructor, or the commandline interface `tolteca ...`, and is destroyed upon the termination of program. The perservation of runtime info is done through the `setup_info` dict in the runtime info. "
   ]
  },
  {
   "cell_type": "markdown",
   "id": "naughty-talent",
   "metadata": {},
   "source": [
    "### RuntimeContext.setup_info"
   ]
  },
  {
   "cell_type": "code",
   "execution_count": 9,
   "id": "dedicated-horizontal",
   "metadata": {},
   "outputs": [
    {
     "name": "stdout",
     "output_type": "stream",
     "text": [
      "Content of RuntimeContext.setup_info:\n",
      "\n",
      "config: {}\n",
      "created_at: '2022-01-31 14:44:31.418280'\n",
      "\n"
     ]
    }
   ],
   "source": [
    "print(\"Content of RuntimeContext.setup_info:\")\n",
    "print(f\"{pformat_yaml(rc.setup_info.to_dict())}\")"
   ]
  },
  {
   "cell_type": "markdown",
   "id": "suburban-appreciation",
   "metadata": {},
   "source": [
    "The `setup_info` property holds a `tolteca.utils.runtime_context.SetupInfo` object that capures information related to a *previous* execution enviroments, which is checked when necessary to ensure consistency between runs.\n",
    "\n",
    "The same setup info object is also present in the config dict `RuntimeContext.config`, under the key `runtime_info.setup_info`.\n",
    "\n",
    "The setup info object contains an empty `config` entry by default (the case of our `rc` object above). The `RuntimeContext.setup` method shall be used to save the current config dict (thus including the runtime info dict) to the setup info."
   ]
  },
  {
   "cell_type": "code",
   "execution_count": 10,
   "id": "surface-stroke",
   "metadata": {},
   "outputs": [
    {
     "name": "stdout",
     "output_type": "stream",
     "text": [
      "Content of RuntimeContext.setup_info after setup\n",
      "\n",
      "config:\n",
      "  runtime_info:\n",
      "    bindir: /private/var/folders/zc/33kgh8vx3z37kpp6xf84bzvm0000gn/T/tmpc8ex2dsd/bin\n",
      "    caldir: /private/var/folders/zc/33kgh8vx3z37kpp6xf84bzvm0000gn/T/tmpc8ex2dsd/cal\n",
      "    cmd: /usr/local/Cellar/python@3.8/3.8.12_1/envs/tolteca/lib/python3.8/site-packages/ipykernel_launcher.py\n",
      "      -f /Users/ma/Library/Jupyter/runtime/kernel-4d1b02aa-fc08-4197-8510-9893fb065ad9.json\n",
      "    config_info:\n",
      "      env_files: []\n",
      "      load_sys_config: true\n",
      "      load_user_config: true\n",
      "      runtime_context_dir: /private/var/folders/zc/33kgh8vx3z37kpp6xf84bzvm0000gn/T/tmpc8ex2dsd\n",
      "      standalone_config_files: []\n",
      "      sys_config_path: /Users/ma/Codes/toltec/py/tolteca/tolteca/data/tolteca.yaml\n",
      "      user_config_path: /Users/ma/Library/Application Support/tolteca/tolteca.yaml\n",
      "    created_at: 2022-01-31T14:44:31.418\n",
      "    exec_path: /usr/local/Cellar/python@3.8/3.8.12_1/envs/tolteca/lib/python3.8/site-packages/ipykernel_launcher.py\n",
      "    hostname: Zhiyuans-MacBook-Pro.local\n",
      "    logdir: /private/var/folders/zc/33kgh8vx3z37kpp6xf84bzvm0000gn/T/tmpc8ex2dsd/log\n",
      "    python_prefix: /usr/local/Cellar/python@3.8/3.8.12_1/envs/tolteca\n",
      "    setup_info:\n",
      "      config: {}\n",
      "      created_at: 2022-01-31T14:44:31.418\n",
      "    username: ma\n",
      "    version: 1.0.3.dev4+g687a0b7.d20220131\n",
      "created_at: '2022-01-31T14:44:31.418'\n",
      "\n"
     ]
    }
   ],
   "source": [
    "try:\n",
    "    rc.setup()\n",
    "except RuntimeContextError:\n",
    "    # the setup method riases when the setup info is present. To make\n",
    "    # re-runing of the cell happy, we capture the exception and discard\n",
    "    pass\n",
    "print(\"Content of RuntimeContext.setup_info after setup\")\n",
    "print(f\"{pformat_yaml(rc.setup_info.to_dict())}\")"
   ]
  },
  {
   "cell_type": "markdown",
   "id": "quarterly-blast",
   "metadata": {},
   "source": [
    "For `rc`, which is created from workdir, the setup info is written to the `40_setup.yaml` file in the workdir. This info is propagated into later loading of the runtime context from the same workdir:"
   ]
  },
  {
   "cell_type": "code",
   "execution_count": 12,
   "id": "aging-communications",
   "metadata": {},
   "outputs": [
    {
     "name": "stdout",
     "output_type": "stream",
     "text": [
      "setup info is same: True\n",
      "runtime info is same: False\n"
     ]
    }
   ],
   "source": [
    "rc_later = RuntimeContext(workdir)\n",
    "print(f\"setup info is same: {rc_later.setup_info == rc.setup_info}\")\n",
    "print(f\"runtime info is same: {rc_later.runtime_info == rc.runtime_info}\")"
   ]
  },
  {
   "cell_type": "markdown",
   "id": "quick-garbage",
   "metadata": {},
   "source": [
    "For runtime context created via config file or config dict, the `RuntimeContext.setup` method only update the in-memory config dict. It will not be saved on the dist by default. To produce a setup file in these cases, one may provide a `setup_filepath` to the `setup` call.\n",
    "\n",
    "The created setup file will be similar to the 40_setup.yaml file. It can be used for creating runtime context object at later times."
   ]
  },
  {
   "cell_type": "code",
   "execution_count": null,
   "id": "powerful-bundle",
   "metadata": {},
   "outputs": [],
   "source": []
  }
 ],
 "metadata": {
  "kernelspec": {
   "display_name": "tolteca",
   "language": "python",
   "name": "tolteca"
  },
  "language_info": {
   "codemirror_mode": {
    "name": "ipython",
    "version": 3
   },
   "file_extension": ".py",
   "mimetype": "text/x-python",
   "name": "python",
   "nbconvert_exporter": "python",
   "pygments_lexer": "ipython3",
   "version": "3.8.12"
  }
 },
 "nbformat": 4,
 "nbformat_minor": 5
}
