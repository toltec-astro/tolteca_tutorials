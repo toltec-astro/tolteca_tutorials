{
 "cells": [
  {
   "cell_type": "markdown",
   "id": "boolean-portland",
   "metadata": {},
   "source": [
    "# Working with raw KIDs data\n",
    "\n",
    "## Authors\n",
    "Zhiyuan Ma\n",
    "\n",
    "## Learning Goals\n",
    "* Learn the raw KIDs data format\n",
    "* Plot the KIDs resonators and timestreams\n",
    "\n",
    "## Keywords\n",
    "KIDs data\n",
    "\n",
    "## Summary\n",
    "In this tutorial, we will download a raw KIDs data file, and visualize it."
   ]
  },
  {
   "cell_type": "markdown",
   "id": "enhanced-penetration",
   "metadata": {},
   "source": [
    "1. Setup some example datafiles"
   ]
  },
  {
   "cell_type": "code",
   "execution_count": 5,
   "id": "listed-packet",
   "metadata": {},
   "outputs": [
    {
     "name": "stdout",
     "output_type": "stream",
     "text": [
      "downloaded /var/folders/zc/33kgh8vx3z37kpp6xf84bzvm0000gn/T/astropy-download-23188-e7e2vgms\n"
     ]
    }
   ],
   "source": [
    "from astropy.utils.data import download_file\n",
    "kidsdata_filepath = download_file('https://drive.google.com/uc?export=download&id=1Oeq3somvNV3Xiva_2N_2jN5VXixUmrE9')\n",
    "print(f\"downloaded {kidsdata_filepath}\")"
   ]
  },
  {
   "cell_type": "code",
   "execution_count": 8,
   "id": "inner-interstate",
   "metadata": {
    "scrolled": true
   },
   "outputs": [
    {
     "ename": "ValueError",
     "evalue": "unable to parse meta from source FileLoc(/var/folders/zc/33kgh8vx3z37kpp6xf84bzvm0000gn/T/astropy-download-23188-e7e2vgms)",
     "output_type": "error",
     "traceback": [
      "\u001b[0;31m---------------------------------------------------------------------------\u001b[0m",
      "\u001b[0;31mValueError\u001b[0m                                Traceback (most recent call last)",
      "\u001b[0;32m<ipython-input-8-2c046314b0df>\u001b[0m in \u001b[0;36m<module>\u001b[0;34m\u001b[0m\n\u001b[1;32m      1\u001b[0m \u001b[0;32mfrom\u001b[0m \u001b[0mtolteca\u001b[0m\u001b[0;34m.\u001b[0m\u001b[0mdatamodels\u001b[0m\u001b[0;34m.\u001b[0m\u001b[0mtoltec\u001b[0m \u001b[0;32mimport\u001b[0m \u001b[0mBasicObsData\u001b[0m\u001b[0;34m\u001b[0m\u001b[0;34m\u001b[0m\u001b[0m\n\u001b[0;32m----> 2\u001b[0;31m \u001b[0mbod\u001b[0m \u001b[0;34m=\u001b[0m \u001b[0mBasicObsData\u001b[0m\u001b[0;34m(\u001b[0m\u001b[0mkidsdata_filepath\u001b[0m\u001b[0;34m,\u001b[0m \u001b[0mopen_\u001b[0m\u001b[0;34m=\u001b[0m\u001b[0;32mTrue\u001b[0m\u001b[0;34m)\u001b[0m\u001b[0;34m\u001b[0m\u001b[0;34m\u001b[0m\u001b[0m\n\u001b[0m\u001b[1;32m      3\u001b[0m \u001b[0mprint\u001b[0m\u001b[0;34m(\u001b[0m\u001b[0mbod\u001b[0m\u001b[0;34m)\u001b[0m\u001b[0;34m\u001b[0m\u001b[0;34m\u001b[0m\u001b[0m\n",
      "\u001b[0;32m/usr/local/Cellar/python@3.8/3.8.8_1/envs/tolteca_tutorials/lib/python3.8/site-packages/tolteca/datamodels/toltec/basic_obs_data.py\u001b[0m in \u001b[0;36m__init__\u001b[0;34m(self, source, open_)\u001b[0m\n\u001b[1;32m     75\u001b[0m         \u001b[0mself\u001b[0m\u001b[0;34m.\u001b[0m\u001b[0m_file_loc\u001b[0m \u001b[0;34m=\u001b[0m \u001b[0mfile_loc\u001b[0m\u001b[0;34m\u001b[0m\u001b[0;34m\u001b[0m\u001b[0m\n\u001b[1;32m     76\u001b[0m         \u001b[0mself\u001b[0m\u001b[0;34m.\u001b[0m\u001b[0m_file_obj\u001b[0m \u001b[0;34m=\u001b[0m \u001b[0mfile_obj\u001b[0m\u001b[0;34m\u001b[0m\u001b[0;34m\u001b[0m\u001b[0m\n\u001b[0;32m---> 77\u001b[0;31m         \u001b[0mself\u001b[0m\u001b[0;34m.\u001b[0m\u001b[0m_update_meta\u001b[0m\u001b[0;34m(\u001b[0m\u001b[0;34m)\u001b[0m\u001b[0;34m\u001b[0m\u001b[0;34m\u001b[0m\u001b[0m\n\u001b[0m\u001b[1;32m     78\u001b[0m         \u001b[0;32mif\u001b[0m \u001b[0mself\u001b[0m\u001b[0;34m.\u001b[0m\u001b[0mfile_obj\u001b[0m \u001b[0;32mis\u001b[0m \u001b[0;32mnot\u001b[0m \u001b[0;32mNone\u001b[0m\u001b[0;34m:\u001b[0m\u001b[0;34m\u001b[0m\u001b[0;34m\u001b[0m\u001b[0m\n\u001b[1;32m     79\u001b[0m             \u001b[0;31m# ensure that we automatically close the file\u001b[0m\u001b[0;34m\u001b[0m\u001b[0;34m\u001b[0m\u001b[0;34m\u001b[0m\u001b[0m\n",
      "\u001b[0;32m/usr/local/Cellar/python@3.8/3.8.8_1/envs/tolteca_tutorials/lib/python3.8/site-packages/tolteca/datamodels/toltec/basic_obs_data.py\u001b[0m in \u001b[0;36m_update_meta\u001b[0;34m(self)\u001b[0m\n\u001b[1;32m    103\u001b[0m         \u001b[0;34m\"\"\"Update :attr:`meta`.\"\"\"\u001b[0m\u001b[0;34m\u001b[0m\u001b[0;34m\u001b[0m\u001b[0m\n\u001b[1;32m    104\u001b[0m \u001b[0;34m\u001b[0m\u001b[0m\n\u001b[0;32m--> 105\u001b[0;31m         \u001b[0mself\u001b[0m\u001b[0;34m.\u001b[0m\u001b[0mupdate_meta_from_file_loc\u001b[0m\u001b[0;34m(\u001b[0m\u001b[0mself\u001b[0m\u001b[0;34m.\u001b[0m\u001b[0mmeta\u001b[0m\u001b[0;34m,\u001b[0m \u001b[0mself\u001b[0m\u001b[0;34m.\u001b[0m\u001b[0mfile_loc\u001b[0m\u001b[0;34m)\u001b[0m\u001b[0;34m\u001b[0m\u001b[0;34m\u001b[0m\u001b[0m\n\u001b[0m\u001b[1;32m    106\u001b[0m         \u001b[0;32mif\u001b[0m \u001b[0mself\u001b[0m\u001b[0;34m.\u001b[0m\u001b[0mfile_obj\u001b[0m \u001b[0;32mis\u001b[0m \u001b[0;32mnot\u001b[0m \u001b[0;32mNone\u001b[0m\u001b[0;34m:\u001b[0m\u001b[0;34m\u001b[0m\u001b[0;34m\u001b[0m\u001b[0m\n\u001b[1;32m    107\u001b[0m             \u001b[0mself\u001b[0m\u001b[0;34m.\u001b[0m\u001b[0mupdate_meta_from_file_obj\u001b[0m\u001b[0;34m(\u001b[0m\u001b[0mself\u001b[0m\u001b[0;34m.\u001b[0m\u001b[0mmeta\u001b[0m\u001b[0;34m,\u001b[0m \u001b[0mself\u001b[0m\u001b[0;34m.\u001b[0m\u001b[0mfile_obj\u001b[0m\u001b[0;34m)\u001b[0m\u001b[0;34m\u001b[0m\u001b[0;34m\u001b[0m\u001b[0m\n",
      "\u001b[0;32m/usr/local/Cellar/python@3.8/3.8.8_1/envs/tolteca_tutorials/lib/python3.8/site-packages/tolteca/datamodels/toltec/basic_obs_data.py\u001b[0m in \u001b[0;36mupdate_meta_from_file_loc\u001b[0;34m(cls, meta, file_loc)\u001b[0m\n\u001b[1;32m     97\u001b[0m         \"\"\"\n\u001b[1;32m     98\u001b[0m         logged_dict_update(\n\u001b[0;32m---> 99\u001b[0;31m                 cls.logger.warning, meta, meta_from_source(file_loc))\n\u001b[0m\u001b[1;32m    100\u001b[0m         \u001b[0;32mreturn\u001b[0m \u001b[0mmeta\u001b[0m\u001b[0;34m\u001b[0m\u001b[0;34m\u001b[0m\u001b[0m\n\u001b[1;32m    101\u001b[0m \u001b[0;34m\u001b[0m\u001b[0m\n",
      "\u001b[0;32m/usr/local/Cellar/python@3.8/3.8.8_1/envs/tolteca_tutorials/lib/python3.8/site-packages/tolteca/datamodels/fs/toltec.py\u001b[0m in \u001b[0;36mmeta_from_source\u001b[0;34m(source)\u001b[0m\n\u001b[1;32m    152\u001b[0m         \u001b[0;32mbreak\u001b[0m\u001b[0;34m\u001b[0m\u001b[0;34m\u001b[0m\u001b[0m\n\u001b[1;32m    153\u001b[0m     \u001b[0;32mif\u001b[0m \u001b[0mmeta\u001b[0m \u001b[0;32mis\u001b[0m \u001b[0;32mNone\u001b[0m\u001b[0;34m:\u001b[0m\u001b[0;34m\u001b[0m\u001b[0;34m\u001b[0m\u001b[0m\n\u001b[0;32m--> 154\u001b[0;31m         \u001b[0;32mraise\u001b[0m \u001b[0mValueError\u001b[0m\u001b[0;34m(\u001b[0m\u001b[0;34mf\"unable to parse meta from source {source}\"\u001b[0m\u001b[0;34m)\u001b[0m\u001b[0;34m\u001b[0m\u001b[0;34m\u001b[0m\u001b[0m\n\u001b[0m\u001b[1;32m    155\u001b[0m     \u001b[0;32mreturn\u001b[0m \u001b[0mmeta\u001b[0m\u001b[0;34m\u001b[0m\u001b[0;34m\u001b[0m\u001b[0m\n\u001b[1;32m    156\u001b[0m \u001b[0;34m\u001b[0m\u001b[0m\n",
      "\u001b[0;31mValueError\u001b[0m: unable to parse meta from source FileLoc(/var/folders/zc/33kgh8vx3z37kpp6xf84bzvm0000gn/T/astropy-download-23188-e7e2vgms)"
     ]
    }
   ],
   "source": [
    "from tolteca.datamodels.toltec import BasicObsData\n",
    "bod = BasicObsData(kidsdata_filepath, open_=True)\n",
    "print(bod)"
   ]
  },
  {
   "cell_type": "code",
   "execution_count": null,
   "id": "consolidated-romania",
   "metadata": {},
   "outputs": [],
   "source": []
  },
  {
   "cell_type": "code",
   "execution_count": null,
   "id": "assigned-serial",
   "metadata": {},
   "outputs": [],
   "source": []
  }
 ],
 "metadata": {
  "kernelspec": {
   "display_name": "Python (tolteca-tutorials)",
   "language": "python",
   "name": "tolteca-tutorials"
  },
  "language_info": {
   "codemirror_mode": {
    "name": "ipython",
    "version": 3
   },
   "file_extension": ".py",
   "mimetype": "text/x-python",
   "name": "python",
   "nbconvert_exporter": "python",
   "pygments_lexer": "ipython3",
   "version": "3.8.8"
  }
 },
 "nbformat": 4,
 "nbformat_minor": 5
}
