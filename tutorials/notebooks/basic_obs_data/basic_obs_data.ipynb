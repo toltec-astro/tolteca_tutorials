{
 "cells": [
  {
   "cell_type": "markdown",
   "id": "infectious-humanity",
   "metadata": {},
   "source": [
    "# Working with raw KIDs data\n",
    "\n",
    "## Authors\n",
    "Zhiyuan Ma\n",
    "\n",
    "## Learning Goals\n",
    "* Learn the raw KIDs data format\n",
    "* Plot the KIDs resonators and timestreams\n",
    "\n",
    "## Keywords\n",
    "KIDs data\n",
    "\n",
    "## Summary\n",
    "In this tutorial, we will download a raw KIDs data file, and visualize it."
   ]
  },
  {
   "cell_type": "code",
   "execution_count": 1,
   "id": "checked-nevada",
   "metadata": {},
   "outputs": [],
   "source": [
    "# Set up matplotlib\n",
    "import matplotlib.pyplot as plt\n",
    "%matplotlib inline"
   ]
  },
  {
   "cell_type": "markdown",
   "id": "intensive-sperm",
   "metadata": {},
   "source": [
    "Download the example TolTEC raw KIDs data file for this tutorial."
   ]
  },
  {
   "cell_type": "code",
   "execution_count": 2,
   "id": "painful-venezuela",
   "metadata": {},
   "outputs": [
    {
     "name": "stdout",
     "output_type": "stream",
     "text": [
      "downloaded kids data filepath: /var/folders/zc/33kgh8vx3z37kpp6xf84bzvm0000gn/T/astropy-download-70158-w0ceji5h\n"
     ]
    }
   ],
   "source": [
    "from astropy.utils.data import download_file\n",
    "kidsdata_filepath = download_file('https://drive.google.com/uc?export=download&id=1Oeq3somvNV3Xiva_2N_2jN5VXixUmrE9')\n",
    "print(f\"downloaded kids data filepath: {kidsdata_filepath}\")"
   ]
  },
  {
   "cell_type": "markdown",
   "id": "cleared-nebraska",
   "metadata": {},
   "source": [
    "## Opening the data file and loading the data\n",
    "\n",
    "The data file that we just downloaded contains the raw KIDs readout, which falls into the catagory of the basic obs data (BOD) in the context of TolTEC data reduction, which is defined in the `tolteca.datamodels` package.\n",
    "\n",
    "Let's open the data file and see the inside of it."
   ]
  },
  {
   "cell_type": "code",
   "execution_count": 3,
   "id": "aware-advertising",
   "metadata": {
    "scrolled": true
   },
   "outputs": [
    {
     "name": "stdout",
     "output_type": "stream",
     "text": [
      "BasicObsData(FileLoc(/var/folders/zc/33kgh8vx3z37kpp6xf84bzvm0000gn/T/astropy-download-70158-w0ceji5h))\n"
     ]
    }
   ],
   "source": [
    "from tolteca.datamodels.toltec import BasicObsData\n",
    "bod = BasicObsData(kidsdata_filepath)\n",
    "print(bod)"
   ]
  },
  {
   "cell_type": "markdown",
   "id": "aggregate-language",
   "metadata": {},
   "source": [
    "The meta data of this bod can be found in the attribute `meta`:"
   ]
  },
  {
   "cell_type": "code",
   "execution_count": 9,
   "id": "wanted-messaging",
   "metadata": {
    "scrolled": false
   },
   "outputs": [
    {
     "name": "stdout",
     "output_type": "stream",
     "text": [
      "\n",
      "obs_type: 4\n",
      "data_kind: KidsDataKind.Tune\n",
      "fsmp: 488.28125\n",
      "flo_center: 680850000.0\n",
      "atten_in: 2.0\n",
      "atten_out: 19.0\n",
      "roachid: 0\n",
      "obsnum: 11536\n",
      "subobsnum: 0\n",
      "scannum: 0\n",
      "cal_roachid: 0\n",
      "cal_obsnum: 11534\n",
      "cal_subobsnum: 0\n",
      "cal_scannum: 0\n",
      "n_tones_design: 684\n",
      "n_tones_max: 1000\n",
      "filename_orig: data_toltec/ics/toltec0/toltec0_011536_000_0000_2020_07_18_18_02_31_tune.nc\n",
      "mastervar: 1\n",
      "repeatvar: 1\n",
      "n_times: 3520\n",
      "n_tones: 648\n",
      "n_sweepreps: 10\n",
      "n_sweepsteps: 176\n",
      "n_sweeps_max: 2\n",
      "file_loc: FileLoc(/var/folders/zc/33kgh8vx3z37kpp6xf84bzvm0000gn/T/astropy-download-70158-w0ceji5h)\n",
      "instru: toltec\n",
      "interface: toltec0\n",
      "master: 1\n",
      "repeat: 1\n",
      "nwid: 0\n",
      "n_timespersweep: 1760\n",
      "flos: \"[6.80763e+08 6.80763e+08 6.80763e+08 ... 6.80938e+08 6.80938e+08\\n 6.80938e+08]\\\n",
      "  \\ Hz\"\n",
      "n_sweeps: 2\n",
      "sweep_slices: &block_slices\n",
      "  - slice(0, 1760, None)\n",
      "  - slice(1760, 3520, None)\n",
      "n_blocks_max: 2\n",
      "n_timesperblock: 1760\n",
      "n_blocks: 2\n",
      "block_slices: *block_slices\n",
      "\n"
     ]
    }
   ],
   "source": [
    "from tollan.utils.fmt import pformat_yaml\n",
    "print(pformat_yaml(bod.meta))"
   ]
  },
  {
   "cell_type": "markdown",
   "id": "swiss-iraqi",
   "metadata": {},
   "source": [
    "To access the data in this BOD, we need to load the data. In the simplest form, one could do:"
   ]
  },
  {
   "cell_type": "code",
   "execution_count": 12,
   "id": "prerequisite-movement",
   "metadata": {},
   "outputs": [
    {
     "name": "stdout",
     "output_type": "stream",
     "text": [
      "MultiSweep(648, 176)\n"
     ]
    }
   ],
   "source": [
    "kd = bod.read()\n",
    "print(kd)"
   ]
  },
  {
   "cell_type": "markdown",
   "id": "prospective-chicago",
   "metadata": {},
   "source": [
    "The returned value is of type `kidsproc.kidsdata.MultiSwepp`, where `kidsproc` is a general purpose KIDs data analysis library. The `MultiSweep` class (as well as other KIDs data contains implemented in the `kidsproc.kidsdata` module) is implemented as a subclass of `astropy.nddata.NDData` equipped with attributes like `meta`, `data`, `uncertainty`, `mask`, etc., and the KIDs network S21 data is stored as a complex array with shape `(n_tones, n_samples)` in atrribute `S21`, and the corresponding frequency grid is in `frequency`:"
   ]
  },
  {
   "cell_type": "code",
   "execution_count": 24,
   "id": "broad-moderator",
   "metadata": {},
   "outputs": [
    {
     "name": "stdout",
     "output_type": "stream",
     "text": [
      "['D21', 'S21', '__abstractmethods__', '__class__', '__delattr__', '__dict__', '__dir__', '__doc__', '__eq__', '__format__', '__ge__', '__getattribute__', '__getitem__', '__gt__', '__hash__', '__init__', '__init_subclass__', '__le__', '__lt__', '__module__', '__ne__', '__new__', '__reduce__', '__reduce_ex__', '__repr__', '__setattr__', '__sizeof__', '__str__', '__subclasshook__', '__weakref__', '_abc_impl', '_arithmetic', '_arithmetic_data', '_arithmetic_mask', '_arithmetic_meta', '_arithmetic_uncertainty', '_arithmetic_wcs', '_data', '_frequency', '_handle_wcs_slicing_error', '_make_frequency_grid', '_make_unified', '_mask', '_meta', '_prepare_then_do_arithmetic', '_slice', '_slice_extra', '_slice_mask', '_slice_uncertainty', '_slice_wcs', '_sweeps', '_tones', '_uncertainty', '_unit', '_validate_D21', '_validate_S21', '_validate_frequency', '_wcs', 'add', 'data', 'diqs_df', 'divide', 'frequency', 'get_sweep', 'make_unified', 'mask', 'meta', 'multiply', 'read', 'set_unified', 'subtract', 'sweeps', 'tones', 'uncertainty', 'unified', 'unit', 'wcs', 'write']\n",
      "S21 type: <class 'astropy.units.quantity.Quantity'>; unit: adu; shape: (648, 176)\n",
      "frequency type: <class 'astropy.units.quantity.Quantity'>; unit: Hz; shape: (648, 176)\n"
     ]
    }
   ],
   "source": [
    "print(dir(kd))\n",
    "print(f\"S21 type: {kd.S21.__class__}; unit: {kd.S21.unit}; shape: {kd.S21.shape}\")\n",
    "print(f\"frequency type: {kd.frequency.__class__}; unit: {kd.frequency.unit}; shape: {kd.frequency.shape}\")"
   ]
  },
  {
   "cell_type": "markdown",
   "id": "assigned-reserve",
   "metadata": {},
   "source": [
    "The first axis (the row) represents the multiplexed tones, and the second axis (column) is for individual measurements. In case of a frequency sweep, the measurement is done at a grid of \"sweep frequencies\".\n",
    "\n",
    "The per-tone meta data are stored in a table `tone_axis_data` in the meta data:"
   ]
  },
  {
   "cell_type": "code",
   "execution_count": 22,
   "id": "coupled-audit",
   "metadata": {},
   "outputs": [
    {
     "name": "stdout",
     "output_type": "stream",
     "text": [
      " id     f_tone         f_center   \n",
      "          Hz              Hz      \n",
      "--- -------------- ---------------\n",
      "  0      1914062.5     682764062.5\n",
      "  1    2919921.875   683769921.875\n",
      "  2    3751953.125   684601953.125\n",
      "  3    4087890.625   684937890.625\n",
      "  4  5003417.96875 685853417.96875\n",
      "  5    6353515.625   687203515.625\n",
      "  6     7957031.25    688807031.25\n",
      "  7   8579101.5625  689429101.5625\n",
      "  8  8647949.21875 689497949.21875\n",
      "  9   9989257.8125  690839257.8125\n",
      "...            ...             ...\n",
      "638 -10209960.9375  670640039.0625\n",
      "639 -9330566.40625 671519433.59375\n",
      "640 -9246582.03125 671603417.96875\n",
      "641   -6298828.125   674551171.875\n",
      "642 -5488769.53125 675361230.46875\n",
      "643  -5258789.0625  675591210.9375\n",
      "644  -3350585.9375  677499414.0625\n",
      "645 -2301269.53125 678548730.46875\n",
      "646   -2158203.125   678691796.875\n",
      "647 -1043457.03125 679806542.96875\n",
      "Length = 648 rows\n"
     ]
    }
   ],
   "source": [
    "print(kd.meta['tone_axis_data'])"
   ]
  },
  {
   "cell_type": "markdown",
   "id": "alert-purple",
   "metadata": {},
   "source": [
    "And so are the per-sweepstep meta data:"
   ]
  },
  {
   "cell_type": "code",
   "execution_count": 23,
   "id": "blocked-progress",
   "metadata": {},
   "outputs": [
    {
     "name": "stdout",
     "output_type": "stream",
     "text": [
      " id   f_sweep   n_samples sample_start sample_end\n",
      "         Hz                                      \n",
      "--- ----------- --------- ------------ ----------\n",
      "  0 680763000.0        10         1760       1770\n",
      "  1 680764000.0        10         1770       1780\n",
      "  2 680765000.0        10         1780       1790\n",
      "  3 680766000.0        10         1790       1800\n",
      "  4 680767000.0        10         1800       1810\n",
      "  5 680768000.0        10         1810       1820\n",
      "  6 680769000.0        10         1820       1830\n",
      "  7 680770000.0        10         1830       1840\n",
      "  8 680771000.0        10         1840       1850\n",
      "  9 680772000.0        10         1850       1860\n",
      "...         ...       ...          ...        ...\n",
      "166 680929000.0        10         3420       3430\n",
      "167 680930000.0        10         3430       3440\n",
      "168 680931000.0        10         3440       3450\n",
      "169 680932000.0        10         3450       3460\n",
      "170 680933000.0        10         3460       3470\n",
      "171 680934000.0        10         3470       3480\n",
      "172 680935000.0        10         3480       3490\n",
      "173 680936000.0        10         3490       3500\n",
      "174 680937000.0        10         3500       3510\n",
      "175 680938000.0        10         3510       3520\n",
      "Length = 176 rows\n"
     ]
    }
   ],
   "source": [
    "print(kd.meta['sweep_axis_data'])"
   ]
  },
  {
   "cell_type": "markdown",
   "id": "connected-thousand",
   "metadata": {},
   "source": [
    "Alternative, one can access the representitive tone frequencies and sweep frquencies via the attributes:"
   ]
  },
  {
   "cell_type": "code",
   "execution_count": 28,
   "id": "further-seeking",
   "metadata": {},
   "outputs": [
    {
     "name": "stdout",
     "output_type": "stream",
     "text": [
      "[ 1.91406250e+06  2.91992188e+06  3.75195312e+06  4.08789062e+06\n",
      "  5.00341797e+06  6.35351562e+06  7.95703125e+06  8.57910156e+06\n",
      "  8.64794922e+06  9.98925781e+06  1.21562500e+07  1.24902344e+07\n",
      "  1.28642578e+07  1.41445312e+07  1.49877930e+07  1.53374023e+07\n",
      "  1.61855469e+07  1.71367188e+07  1.93481445e+07  1.98022461e+07\n",
      "  2.00932617e+07  2.05004883e+07  2.10629883e+07  2.14003906e+07\n",
      "  2.24052734e+07  2.25351562e+07  2.25966797e+07  2.37265625e+07\n",
      "  2.45556641e+07  2.48774414e+07  2.55849609e+07  2.65483398e+07\n",
      "  2.70874023e+07  2.72924805e+07  2.75175781e+07  3.00747070e+07\n",
      "  3.02778320e+07  3.34829102e+07  3.36201172e+07  3.38549805e+07\n",
      "  3.44653320e+07  3.47543945e+07  3.56679688e+07  3.73442383e+07\n",
      "  3.85249023e+07  3.89985352e+07  3.91103516e+07  3.94560547e+07\n",
      "  3.96186523e+07  4.05668945e+07  4.22607422e+07  4.29794922e+07\n",
      "  4.42387695e+07  4.47519531e+07  4.59267578e+07  4.65292969e+07\n",
      "  4.79106445e+07  4.81533203e+07  4.87915039e+07  4.94282227e+07\n",
      "  5.03422852e+07  5.09223633e+07  5.15244141e+07  5.30278320e+07\n",
      "  5.55361328e+07  5.56923828e+07  5.66250000e+07  5.69204102e+07\n",
      "  5.70346680e+07  5.73046875e+07  5.88686523e+07  5.98208008e+07\n",
      "  6.00541992e+07  6.05214844e+07  6.15341797e+07  6.16240234e+07\n",
      "  6.27314453e+07  6.32182617e+07  6.33647461e+07  6.36459961e+07\n",
      "  6.59418945e+07  6.79277344e+07  6.80683594e+07  6.89584961e+07\n",
      "  6.92080078e+07  7.07250977e+07  7.10781250e+07  7.14057617e+07\n",
      "  7.14692383e+07  7.22656250e+07  7.26245117e+07  7.33676758e+07\n",
      "  7.40395508e+07  7.43808594e+07  7.55610352e+07  7.56625977e+07\n",
      "  7.58803711e+07  7.65405273e+07  7.67524414e+07  7.74824219e+07\n",
      "  7.76762695e+07  7.85092773e+07  7.92827148e+07  8.05864258e+07\n",
      "  8.06440430e+07  8.15644531e+07  8.20595703e+07  8.25278320e+07\n",
      "  8.31220703e+07  8.31938477e+07  8.34965820e+07  8.40556641e+07\n",
      "  8.42797852e+07  8.48706055e+07  8.58906250e+07  8.67788086e+07\n",
      "  8.74042969e+07  8.74809570e+07  8.77387695e+07  8.88466797e+07\n",
      "  8.89897461e+07  8.91977539e+07  8.94824219e+07  9.03686523e+07\n",
      "  9.10361328e+07  9.16484375e+07  9.18364258e+07  9.26347656e+07\n",
      "  9.28959961e+07  9.41411133e+07  9.46645508e+07  9.48486328e+07\n",
      "  9.58881836e+07  9.61420898e+07  9.64165039e+07  9.66674805e+07\n",
      "  9.71225586e+07  9.72968750e+07  9.75644531e+07  9.85673828e+07\n",
      "  9.95107422e+07  1.01384277e+08  1.01953613e+08  1.03898926e+08\n",
      "  1.03981445e+08  1.04105469e+08  1.04241699e+08  1.04364258e+08\n",
      "  1.07740723e+08  1.08033203e+08  1.08475098e+08  1.09262695e+08\n",
      "  1.11346191e+08  1.11539062e+08  1.12397949e+08  1.12901367e+08\n",
      "  1.13710938e+08  1.15244629e+08  1.15329102e+08  1.17440918e+08\n",
      "  1.19204590e+08  1.19583008e+08  1.19676758e+08  1.21872559e+08\n",
      "  1.22483887e+08  1.23247070e+08  1.24162598e+08  1.26654785e+08\n",
      "  1.26944824e+08  1.27009277e+08  1.28076172e+08  1.28153809e+08\n",
      "  1.28945801e+08  1.29174805e+08  1.29252930e+08  1.29761719e+08\n",
      "  1.32791016e+08  1.33002930e+08  1.33774414e+08  1.33933105e+08\n",
      "  1.37065430e+08  1.37512207e+08  1.37583984e+08  1.38782715e+08\n",
      "  1.40046387e+08  1.41234375e+08  1.42729492e+08  1.43046875e+08\n",
      "  1.43183105e+08  1.43536621e+08  1.44163086e+08  1.44311523e+08\n",
      "  1.49484863e+08  1.49947266e+08  1.50304199e+08  1.50454590e+08\n",
      "  1.50513672e+08  1.50629395e+08  1.51339355e+08  1.51661133e+08\n",
      "  1.53421875e+08  1.54194824e+08  1.59244629e+08  1.59442871e+08\n",
      "  1.59798340e+08  1.61553223e+08  1.61876953e+08  1.62337402e+08\n",
      "  1.62920898e+08  1.63515625e+08  1.63684082e+08  1.64823730e+08\n",
      "  1.64889160e+08  1.65895508e+08  1.67409180e+08  1.68116699e+08\n",
      "  1.68620117e+08  1.70175781e+08  1.70380859e+08  1.71062988e+08\n",
      "  1.73499023e+08  1.74723145e+08  1.75171387e+08  1.75721191e+08\n",
      "  1.76681152e+08  1.76824707e+08  1.76885254e+08  1.77177246e+08\n",
      "  1.77276367e+08  1.78752441e+08  1.79579102e+08  1.81107422e+08\n",
      "  1.82303711e+08  1.82649414e+08  1.83661621e+08  1.84676270e+08\n",
      "  1.86263672e+08  1.86391602e+08  1.87639648e+08  1.88240234e+08\n",
      "  1.89604492e+08  1.90821777e+08  1.91272949e+08  1.93126465e+08\n",
      "  1.94442383e+08  1.94981934e+08  1.96051758e+08  1.96187988e+08\n",
      "  1.96449707e+08  1.98200684e+08  1.98376953e+08  1.98819336e+08\n",
      "  2.00039551e+08  2.01085449e+08  2.02293945e+08  2.02980469e+08\n",
      "  2.05936523e+08  2.06031250e+08  2.06465820e+08  2.06885254e+08\n",
      "  2.07430176e+08  2.09088379e+08  2.09189941e+08  2.11138672e+08\n",
      "  2.12032715e+08  2.12325195e+08  2.14087891e+08  2.14815430e+08\n",
      "  2.15360352e+08  2.15627441e+08  2.16815918e+08  2.18046387e+08\n",
      "  2.18412109e+08  2.19483398e+08  2.20371094e+08  2.22320801e+08\n",
      "  2.22519043e+08  2.22918945e+08  2.25323730e+08  2.26235352e+08\n",
      " -2.25546875e+08 -2.25330078e+08 -2.24536133e+08 -2.23869629e+08\n",
      " -2.22261230e+08 -2.20573730e+08 -2.20353516e+08 -2.19237305e+08\n",
      " -2.18981934e+08 -2.18941406e+08 -2.17137207e+08 -2.16876953e+08\n",
      " -2.16147949e+08 -2.15592773e+08 -2.15193848e+08 -2.14901367e+08\n",
      " -2.13461426e+08 -2.13286621e+08 -2.12771484e+08 -2.12007324e+08\n",
      " -2.10997070e+08 -2.10785156e+08 -2.10154785e+08 -2.09494141e+08\n",
      " -2.09231445e+08 -2.08907227e+08 -2.08719238e+08 -2.07015137e+08\n",
      " -2.06220215e+08 -2.06055664e+08 -2.05719727e+08 -2.04756836e+08\n",
      " -2.04683105e+08 -2.03229980e+08 -2.02379883e+08 -2.02323730e+08\n",
      " -2.02079590e+08 -2.00678223e+08 -2.00622070e+08 -1.99888184e+08\n",
      " -1.99790039e+08 -1.98898438e+08 -1.98759766e+08 -1.98567383e+08\n",
      " -1.98511719e+08 -1.97684082e+08 -1.97340332e+08 -1.97137207e+08\n",
      " -1.96553223e+08 -1.95634766e+08 -1.94626953e+08 -1.94280273e+08\n",
      " -1.93147949e+08 -1.92442871e+08 -1.91734375e+08 -1.91619629e+08\n",
      " -1.91332031e+08 -1.90545410e+08 -1.90030762e+08 -1.89170898e+08\n",
      " -1.89075684e+08 -1.88305176e+08 -1.88050781e+08 -1.86015625e+08\n",
      " -1.86014648e+08 -1.85330078e+08 -1.84031250e+08 -1.83728027e+08\n",
      " -1.83120605e+08 -1.82357910e+08 -1.82193848e+08 -1.81821289e+08\n",
      " -1.81274902e+08 -1.81034180e+08 -1.80507324e+08 -1.80320312e+08\n",
      " -1.79724609e+08 -1.78515137e+08 -1.77954102e+08 -1.77188477e+08\n",
      " -1.76342285e+08 -1.74804199e+08 -1.74534668e+08 -1.74422363e+08\n",
      " -1.73626465e+08 -1.73560547e+08 -1.73326172e+08 -1.72662598e+08\n",
      " -1.71927246e+08 -1.71770020e+08 -1.71011230e+08 -1.70721191e+08\n",
      " -1.70083984e+08 -1.69708496e+08 -1.68896973e+08 -1.68791504e+08\n",
      " -1.68632812e+08 -1.67227051e+08 -1.66501465e+08 -1.65469238e+08\n",
      " -1.64810547e+08 -1.64279297e+08 -1.63837402e+08 -1.63633301e+08\n",
      " -1.63036133e+08 -1.62625977e+08 -1.62209961e+08 -1.61151855e+08\n",
      " -1.61109863e+08 -1.61063477e+08 -1.60968262e+08 -1.60067383e+08\n",
      " -1.59986816e+08 -1.59594238e+08 -1.58287109e+08 -1.56895508e+08\n",
      " -1.56686035e+08 -1.56564453e+08 -1.56221680e+08 -1.55111328e+08\n",
      " -1.54239746e+08 -1.53094238e+08 -1.52869141e+08 -1.52701660e+08\n",
      " -1.52178711e+08 -1.51195312e+08 -1.50548340e+08 -1.50457031e+08\n",
      " -1.50239258e+08 -1.48570801e+08 -1.48015625e+08 -1.47897461e+08\n",
      " -1.47359863e+08 -1.46674805e+08 -1.46557617e+08 -1.46106934e+08\n",
      " -1.45908203e+08 -1.45791016e+08 -1.45432617e+08 -1.45046387e+08\n",
      " -1.44808105e+08 -1.44746094e+08 -1.44601562e+08 -1.44387207e+08\n",
      " -1.43351562e+08 -1.42136230e+08 -1.42136230e+08 -1.42043945e+08\n",
      " -1.41890137e+08 -1.41857422e+08 -1.41817383e+08 -1.40743164e+08\n",
      " -1.40335938e+08 -1.40106934e+08 -1.39666016e+08 -1.39635742e+08\n",
      " -1.38843262e+08 -1.38544922e+08 -1.38196777e+08 -1.38008789e+08\n",
      " -1.37928711e+08 -1.37447754e+08 -1.36540527e+08 -1.36479492e+08\n",
      " -1.36318359e+08 -1.35940918e+08 -1.35888184e+08 -1.35720215e+08\n",
      " -1.35624512e+08 -1.35623535e+08 -1.34278809e+08 -1.34028320e+08\n",
      " -1.33857422e+08 -1.33643555e+08 -1.33555176e+08 -1.32982910e+08\n",
      " -1.32797852e+08 -1.31519043e+08 -1.31119141e+08 -1.30796387e+08\n",
      " -1.30476562e+08 -1.29814941e+08 -1.29615234e+08 -1.29373535e+08\n",
      " -1.28500000e+08 -1.28228516e+08 -1.27948730e+08 -1.27400391e+08\n",
      " -1.26963867e+08 -1.26660645e+08 -1.26386230e+08 -1.24203125e+08\n",
      " -1.24139648e+08 -1.22544434e+08 -1.22093750e+08 -1.21495605e+08\n",
      " -1.20744629e+08 -1.20688965e+08 -1.20643555e+08 -1.20213867e+08\n",
      " -1.19701660e+08 -1.19362793e+08 -1.19221680e+08 -1.15825684e+08\n",
      " -1.15702637e+08 -1.15519043e+08 -1.15099609e+08 -1.14932617e+08\n",
      " -1.14820801e+08 -1.12211426e+08 -1.11713379e+08 -1.10739746e+08\n",
      " -1.10656250e+08 -1.10121094e+08 -1.08297363e+08 -1.07644531e+08\n",
      " -1.06233398e+08 -1.06145508e+08 -1.06000488e+08 -1.05565918e+08\n",
      " -1.05248047e+08 -1.04542480e+08 -1.04388184e+08 -1.03803223e+08\n",
      " -1.02996582e+08 -1.01976074e+08 -1.01500488e+08 -1.01363770e+08\n",
      " -9.96577148e+07 -9.95737305e+07 -9.85439453e+07 -9.80561523e+07\n",
      " -9.68701172e+07 -9.51035156e+07 -9.49721680e+07 -9.47431641e+07\n",
      " -9.44204102e+07 -9.35122070e+07 -9.29926758e+07 -9.24858398e+07\n",
      " -9.18642578e+07 -9.14399414e+07 -8.99462891e+07 -8.94077148e+07\n",
      " -8.94077148e+07 -8.86538086e+07 -8.85996094e+07 -8.75996094e+07\n",
      " -8.74384766e+07 -8.71196289e+07 -8.66425781e+07 -8.52880859e+07\n",
      " -8.27368164e+07 -8.08872070e+07 -8.06049805e+07 -8.05366211e+07\n",
      " -8.02246094e+07 -7.97333984e+07 -7.93476562e+07 -7.89848633e+07\n",
      " -7.70400391e+07 -7.69536133e+07 -7.63745117e+07 -7.57778320e+07\n",
      " -7.53535156e+07 -7.46420898e+07 -7.45029297e+07 -7.17973633e+07\n",
      " -7.14550781e+07 -7.05883789e+07 -7.05292969e+07 -7.04580078e+07\n",
      " -7.04580078e+07 -6.99155273e+07 -6.95815430e+07 -6.88876953e+07\n",
      " -6.77202148e+07 -6.71386719e+07 -6.69008789e+07 -6.64296875e+07\n",
      " -6.45170898e+07 -6.32456055e+07 -6.25156250e+07 -6.24921875e+07\n",
      " -6.18852539e+07 -6.14819336e+07 -6.09785156e+07 -6.07778320e+07\n",
      " -6.03393555e+07 -5.96308594e+07 -5.91298828e+07 -5.80766602e+07\n",
      " -5.75288086e+07 -5.73115234e+07 -5.69672852e+07 -5.68237305e+07\n",
      " -5.57221680e+07 -5.48144531e+07 -5.39345703e+07 -5.37910156e+07\n",
      " -5.23505859e+07 -5.19760742e+07 -5.18847656e+07 -5.17050781e+07\n",
      " -4.90483398e+07 -4.85161133e+07 -4.73164062e+07 -4.70830078e+07\n",
      " -4.69091797e+07 -4.63906250e+07 -4.49458008e+07 -4.39599609e+07\n",
      " -4.27954102e+07 -4.20004883e+07 -4.19399414e+07 -4.19394531e+07\n",
      " -4.12382812e+07 -3.91801758e+07 -3.88393555e+07 -3.85839844e+07\n",
      " -3.79443359e+07 -3.73955078e+07 -3.71079102e+07 -3.63925781e+07\n",
      " -3.62050781e+07 -3.58666992e+07 -3.55908203e+07 -3.54692383e+07\n",
      " -3.50527344e+07 -3.35595703e+07 -3.31933594e+07 -3.29956055e+07\n",
      " -3.25478516e+07 -3.25004883e+07 -3.09853516e+07 -2.96132812e+07\n",
      " -2.86489258e+07 -2.74853516e+07 -2.66250000e+07 -2.62270508e+07\n",
      " -2.58344727e+07 -2.38627930e+07 -2.38198242e+07 -2.34365234e+07\n",
      " -2.24799805e+07 -2.19951172e+07 -2.08491211e+07 -1.90439453e+07\n",
      " -1.76914062e+07 -1.65541992e+07 -1.63105469e+07 -1.58041992e+07\n",
      " -1.54721680e+07 -1.40234375e+07 -1.13706055e+07 -1.09951172e+07\n",
      " -1.09204102e+07 -1.06064453e+07 -1.02099609e+07 -9.33056641e+06\n",
      " -9.24658203e+06 -6.29882812e+06 -5.48876953e+06 -5.25878906e+06\n",
      " -3.35058594e+06 -2.30126953e+06 -2.15820312e+06 -1.04345703e+06] Hz\n",
      "[6.80763e+08 6.80764e+08 6.80765e+08 6.80766e+08 6.80767e+08 6.80768e+08\n",
      " 6.80769e+08 6.80770e+08 6.80771e+08 6.80772e+08 6.80773e+08 6.80774e+08\n",
      " 6.80775e+08 6.80776e+08 6.80777e+08 6.80778e+08 6.80779e+08 6.80780e+08\n",
      " 6.80781e+08 6.80782e+08 6.80783e+08 6.80784e+08 6.80785e+08 6.80786e+08\n",
      " 6.80787e+08 6.80788e+08 6.80789e+08 6.80790e+08 6.80791e+08 6.80792e+08\n",
      " 6.80793e+08 6.80794e+08 6.80795e+08 6.80796e+08 6.80797e+08 6.80798e+08\n",
      " 6.80799e+08 6.80800e+08 6.80801e+08 6.80802e+08 6.80803e+08 6.80804e+08\n",
      " 6.80805e+08 6.80806e+08 6.80807e+08 6.80808e+08 6.80809e+08 6.80810e+08\n",
      " 6.80811e+08 6.80812e+08 6.80813e+08 6.80814e+08 6.80815e+08 6.80816e+08\n",
      " 6.80817e+08 6.80818e+08 6.80819e+08 6.80820e+08 6.80821e+08 6.80822e+08\n",
      " 6.80823e+08 6.80824e+08 6.80825e+08 6.80826e+08 6.80827e+08 6.80828e+08\n",
      " 6.80829e+08 6.80830e+08 6.80831e+08 6.80832e+08 6.80833e+08 6.80834e+08\n",
      " 6.80835e+08 6.80836e+08 6.80837e+08 6.80838e+08 6.80839e+08 6.80840e+08\n",
      " 6.80841e+08 6.80842e+08 6.80843e+08 6.80844e+08 6.80845e+08 6.80846e+08\n",
      " 6.80847e+08 6.80848e+08 6.80849e+08 6.80850e+08 6.80851e+08 6.80852e+08\n",
      " 6.80853e+08 6.80854e+08 6.80855e+08 6.80856e+08 6.80857e+08 6.80858e+08\n",
      " 6.80859e+08 6.80860e+08 6.80861e+08 6.80862e+08 6.80863e+08 6.80864e+08\n",
      " 6.80865e+08 6.80866e+08 6.80867e+08 6.80868e+08 6.80869e+08 6.80870e+08\n",
      " 6.80871e+08 6.80872e+08 6.80873e+08 6.80874e+08 6.80875e+08 6.80876e+08\n",
      " 6.80877e+08 6.80878e+08 6.80879e+08 6.80880e+08 6.80881e+08 6.80882e+08\n",
      " 6.80883e+08 6.80884e+08 6.80885e+08 6.80886e+08 6.80887e+08 6.80888e+08\n",
      " 6.80889e+08 6.80890e+08 6.80891e+08 6.80892e+08 6.80893e+08 6.80894e+08\n",
      " 6.80895e+08 6.80896e+08 6.80897e+08 6.80898e+08 6.80899e+08 6.80900e+08\n",
      " 6.80901e+08 6.80902e+08 6.80903e+08 6.80904e+08 6.80905e+08 6.80906e+08\n",
      " 6.80907e+08 6.80908e+08 6.80909e+08 6.80910e+08 6.80911e+08 6.80912e+08\n",
      " 6.80913e+08 6.80914e+08 6.80915e+08 6.80916e+08 6.80917e+08 6.80918e+08\n",
      " 6.80919e+08 6.80920e+08 6.80921e+08 6.80922e+08 6.80923e+08 6.80924e+08\n",
      " 6.80925e+08 6.80926e+08 6.80927e+08 6.80928e+08 6.80929e+08 6.80930e+08\n",
      " 6.80931e+08 6.80932e+08 6.80933e+08 6.80934e+08 6.80935e+08 6.80936e+08\n",
      " 6.80937e+08 6.80938e+08] Hz\n"
     ]
    }
   ],
   "source": [
    "print(kd.tones)\n",
    "print(kd.sweeps)"
   ]
  },
  {
   "cell_type": "markdown",
   "id": "returning-advancement",
   "metadata": {},
   "source": [
    "To access the sweep data of a single detector or a subset of detectors, we can do indexing or slicing:"
   ]
  },
  {
   "cell_type": "code",
   "execution_count": 43,
   "id": "considered-answer",
   "metadata": {},
   "outputs": [
    {
     "name": "stdout",
     "output_type": "stream",
     "text": [
      "MultiSweep(176,)\n",
      "MultiSweep(10, 176)\n"
     ]
    }
   ],
   "source": [
    "print(kd[0])\n",
    "print(kd[10:20])"
   ]
  },
  {
   "cell_type": "markdown",
   "id": "amateur-idaho",
   "metadata": {},
   "source": [
    "Now we make some plots of the S21: "
   ]
  },
  {
   "cell_type": "code",
   "execution_count": 65,
   "id": "ongoing-feature",
   "metadata": {},
   "outputs": [
    {
     "data": {
      "image/png": "[encoded data removed]",
      "text/plain": [
       "<Figure size 432x288 with 2 Axes>"
      ]
     },
     "metadata": {
      "needs_background": "light"
     },
     "output_type": "display_data"
    }
   ],
   "source": [
    "import numpy as np\n",
    "from astropy.visualization import quantity_support  # this will label axis with the quantities' units\n",
    "quantity_support()  \n",
    "fig, (ax1, ax2) = plt.subplots(1, 2, constrained_layout=True)\n",
    "for i in range(5):\n",
    "    swp = kd[i]\n",
    "    ax1.plot(swp.frequency, np.abs(swp.S21))  # f - |S21|\n",
    "    ax2.plot(swp.S21.real, swp.S21.imag)  # I-Q plane\n",
    "ax1.set_yscale('log')\n",
    "ax2.set_aspect('equal')"
   ]
  },
  {
   "cell_type": "markdown",
   "id": "spatial-clear",
   "metadata": {},
   "source": [
    "In our KIDs data reduction, we compute the so called \"D21\", the derivative of S21, to locate the detectors.\n",
    "\n",
    "This data file being a raw obs data, it does not have the D21 inplace. So we need to compute it and plot. As a caveat, the D21 will not be computed if we slice the `MultiSweep` as above. Instead, we call the method `get_sweep()` to compute a `Sweep` object, which have D21 computed from the MultiSweep's S21."
   ]
  },
  {
   "cell_type": "code",
   "execution_count": 64,
   "id": "favorite-committee",
   "metadata": {},
   "outputs": [
    {
     "data": {
      "image/png": "[encoded data removed]",
      "text/plain": [
       "<Figure size 432x288 with 1 Axes>"
      ]
     },
     "metadata": {
      "needs_background": "light"
     },
     "output_type": "display_data"
    }
   ],
   "source": [
    "fig, ax1 = plt.subplots(1, 1, constrained_layout=True)\n",
    "for i in range(5):\n",
    "    swp = kd.get_sweep(i)  # swp is a `kidsproc.kidsdata.Sweep`\n",
    "    ax1.plot(swp.frequency, swp.D21)  # f - |D21|"
   ]
  },
  {
   "cell_type": "markdown",
   "id": "stretch-sauce",
   "metadata": {},
   "source": [
    "## Opening the KIDs model file and loading the model\n",
    "\n",
    "We run a KIDs model fitting to each KIDs sweep data as soon as the data is taken. This KIDs model file is used to\n",
    "interpret the time streams followed by the sweep. Let's download the KIDs model file associated with the KIDs data file that we just downloaded:"
   ]
  },
  {
   "cell_type": "code",
   "execution_count": 66,
   "id": "interstate-writer",
   "metadata": {},
   "outputs": [
    {
     "name": "stdout",
     "output_type": "stream",
     "text": [
      "downloaded kids model filepath: /var/folders/zc/33kgh8vx3z37kpp6xf84bzvm0000gn/T/astropy-download-70158-6k65e4t3\n"
     ]
    }
   ],
   "source": [
    "kidsmodel_filepath = download_file('https://drive.google.com/uc?export=download&id=1KjSd6EeU2gLnF6Eeet3gwfc-jYi9g1nW')\n",
    "print(f\"downloaded kids model filepath: {kidsmodel_filepath}\")"
   ]
  },
  {
   "cell_type": "markdown",
   "id": "affecting-backing",
   "metadata": {},
   "source": [
    "The KIDs model file can be opened as a `BasicObsData` as well:"
   ]
  },
  {
   "cell_type": "code",
   "execution_count": 72,
   "id": "floral-flower",
   "metadata": {},
   "outputs": [
    {
     "name": "stdout",
     "output_type": "stream",
     "text": [
      "KidsSweepGainWithLinTrend(648)\n",
      "['__class__', '__delattr__', '__dict__', '__dir__', '__doc__', '__eq__', '__format__', '__ge__', '__getattribute__', '__gt__', '__hash__', '__init__', '__init_subclass__', '__le__', '__lt__', '__module__', '__ne__', '__new__', '__reduce__', '__reduce_ex__', '__repr__', '__setattr__', '__sizeof__', '__str__', '__subclasshook__', '__weakref__', '_get_model', '_get_model_cls', '_meta', '_table', 'derotate', 'get_model', 'logger', 'make_sweep', 'meta', 'model', 'model_cls', 'n_models', 'table']\n"
     ]
    }
   ],
   "source": [
    "km = BasicObsData.read(kidsmodel_filepath)  # this is a shortcut of `BasicObsData.open` and call the read method\n",
    "print(km)\n",
    "print(dir(km))"
   ]
  },
  {
   "cell_type": "markdown",
   "id": "controversial-accuracy",
   "metadata": {},
   "source": [
    "The returned is a `tolteca.datamodels.io.toltec.table.KidsModelParams` instance."
   ]
  },
  {
   "cell_type": "markdown",
   "id": "weekly-carbon",
   "metadata": {},
   "source": [
    "The most useful method of `km` is `derotate`, which allow one to \"normalize\" the measured S21 in the I-Q plane to a\n",
    "circle with radius equal to the quality factor (Qr) of the detector:"
   ]
  },
  {
   "cell_type": "code",
   "execution_count": 76,
   "id": "closing-hormone",
   "metadata": {},
   "outputs": [
    {
     "data": {
      "image/png": "[encoded data removed]",
      "text/plain": [
       "<Figure size 432x288 with 1 Axes>"
      ]
     },
     "metadata": {
      "needs_background": "light"
     },
     "output_type": "display_data"
    }
   ],
   "source": [
    "fig, ax1 = plt.subplots(1, 1, constrained_layout=True)\n",
    "kd_derot = km.derotate(kd)\n",
    "for i in range(5):\n",
    "    swp_derot = kd_derot.get_sweep(i)  # swp is a `kidsproc.kidsdata.Sweep`\n",
    "    ax1.plot(swp_derot.S21.real, swp_derot.S21.imag)  # I - Q derot\n",
    "ax1.set_aspect('equal')"
   ]
  },
  {
   "cell_type": "code",
   "execution_count": null,
   "id": "instant-positive",
   "metadata": {},
   "outputs": [],
   "source": []
  }
 ],
 "metadata": {
  "kernelspec": {
   "display_name": "tolteca_tutorials",
   "language": "python",
   "name": "tolteca_tutorials"
  },
  "language_info": {
   "codemirror_mode": {
    "name": "ipython",
    "version": 3
   },
   "file_extension": ".py",
   "mimetype": "text/x-python",
   "name": "python",
   "nbconvert_exporter": "python",
   "pygments_lexer": "ipython3",
   "version": "3.8.9"
  }
 },
 "nbformat": 4,
 "nbformat_minor": 5
}
