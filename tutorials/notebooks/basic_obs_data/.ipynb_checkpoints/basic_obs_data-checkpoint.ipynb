{
 "cells": [
  {
   "cell_type": "markdown",
   "id": "inappropriate-sleeve",
   "metadata": {},
   "source": [
    "# Working with raw KIDs data\n",
    "\n",
    "## Authors\n",
    "Zhiyuan Ma\n",
    "\n",
    "## Learning Goals\n",
    "* Learn the raw KIDs data format\n",
    "* Plot the KIDs resonators and timestreams\n",
    "\n",
    "## Keywords\n",
    "KIDs data\n",
    "\n",
    "## Summary\n",
    "In this tutorial, we will download a raw KIDs data file, and visualize it."
   ]
  },
  {
   "cell_type": "markdown",
   "id": "therapeutic-monitor",
   "metadata": {},
   "source": []
  },
  {
   "cell_type": "code",
   "execution_count": null,
   "id": "guided-avenue",
   "metadata": {},
   "outputs": [],
   "source": [
    "from astropy.utils.data import download_file\n"
   ]
  },
  {
   "cell_type": "code",
   "execution_count": 1,
   "id": "funny-finland",
   "metadata": {
    "scrolled": true
   },
   "outputs": [
    {
     "ename": "SyntaxError",
     "evalue": "invalid syntax (<ipython-input-1-f6b7c3306689>, line 4)",
     "output_type": "error",
     "traceback": [
      "\u001b[0;36m  File \u001b[0;32m\"<ipython-input-1-f6b7c3306689>\"\u001b[0;36m, line \u001b[0;32m4\u001b[0m\n\u001b[0;31m    Zhiyuan Ma\u001b[0m\n\u001b[0m            ^\u001b[0m\n\u001b[0;31mSyntaxError\u001b[0m\u001b[0;31m:\u001b[0m invalid syntax\n"
     ]
    }
   ],
   "source": [
    "from tolteca.datamodels.toltec import BasicObsData\n",
    "from astropy import "
   ]
  },
  {
   "cell_type": "code",
   "execution_count": null,
   "id": "alternative-identity",
   "metadata": {},
   "outputs": [],
   "source": []
  },
  {
   "cell_type": "code",
   "execution_count": null,
   "id": "social-winner",
   "metadata": {},
   "outputs": [],
   "source": []
  }
 ],
 "metadata": {
  "kernelspec": {
   "display_name": "Python (tolteca-tutorials)",
   "language": "python",
   "name": "tolteca-tutorials"
  },
  "language_info": {
   "codemirror_mode": {
    "name": "ipython",
    "version": 3
   },
   "file_extension": ".py",
   "mimetype": "text/x-python",
   "name": "python",
   "nbconvert_exporter": "python",
   "pygments_lexer": "ipython3",
   "version": "3.8.8"
  }
 },
 "nbformat": 4,
 "nbformat_minor": 5
}
