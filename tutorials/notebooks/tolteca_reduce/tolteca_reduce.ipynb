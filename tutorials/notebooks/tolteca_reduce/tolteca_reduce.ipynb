{
 "cells": [
  {
   "cell_type": "markdown",
   "id": "reverse-cursor",
   "metadata": {},
   "source": [
    "# Work with the data reduction submodule\n",
    "\n",
    "## Authors\n",
    "Zhiyuan Ma\n",
    "\n",
    "## Learning Goals\n",
    "* Learn the concept of ``RuntimeContext``, which is the primary interface to run data related tasks.\n",
    "\n",
    "* Reduce an example TolTEC observation.\n",
    "\n",
    "## Keywords\n",
    "Data reduction\n",
    "\n",
    "## Summary\n",
    "In this tutorial, we will create a simulated TolTEC observation and reduce it.\n",
    "\n",
    "To proceed, we need to first setup a tolteca working directory (workdir).\n",
    "\n",
    "A tolteca workdir is a directory prepared by tolteca, which contains special subdirs\n",
    "recognized by the tolteca, as well as a set of runtime config\n",
    "files in YAML format.\n",
    "\n",
    "Tolteca workdir provides the user experience similar to a python virutal environment.\n",
    "User can create many workdirs and each has its own configuration setup for a\n",
    "certain task or project. The configurations are picked up automatically when invoking\n",
    "``tolteca ...`` command in the shell when in a particular tolteca workdir.\n",
    "\n",
    "Under the hood, the in-memory representation of a workdir in tolteca is an instance of\n",
    "`tolteca.utils.RuntimeContext`. All funtionalities related to tolteca workdir are defined\n",
    "as some methods of this class (or some subclass of it). The runtime context is the\n",
    "core object that user would be dealing with in tolteca when working in the IPython\n",
    "prompt or Jupyter notebook.\n",
    "\n",
    "## Let's first create a runtime context object.\n",
    "\n",
    "To make the tutorial independent of any user's own system setup, we just use a temporary\n",
    "directory here:"
   ]
  },
  {
   "cell_type": "code",
   "execution_count": 1,
   "id": "modular-washer",
   "metadata": {},
   "outputs": [
    {
     "name": "stdout",
     "output_type": "stream",
     "text": [
      "Created runtime context RuntimeContext(/private/var/folders/zc/33kgh8vx3z37kpp6xf84bzvm0000gn/T/tmpozpsxj6c)\n",
      "Config files in the rc: [PosixPath('/private/var/folders/zc/33kgh8vx3z37kpp6xf84bzvm0000gn/T/tmpozpsxj6c/50_setup.yaml')]\n"
     ]
    }
   ],
   "source": [
    "import numpy as np\n",
    "import matplotlib.pyplot as plt\n",
    "%matplotlib inline\n",
    "\n",
    "import tempfile\n",
    "from contextlib import ExitStack  # to manage the tempdir\n",
    "\n",
    "es = ExitStack()\n",
    "workdir = es.enter_context(tempfile.TemporaryDirectory())\n",
    "\n",
    "from tolteca.utils import RuntimeContext\n",
    "\n",
    "rc = RuntimeContext.from_dir(dirpath=workdir, create=True)\n",
    "\n",
    "print(f'Created runtime context {rc}')\n",
    "print(f'Config files in the rc: {rc.config_files}')"
   ]
  },
  {
   "cell_type": "markdown",
   "id": "dirty-worker",
   "metadata": {},
   "source": [
    "To load the config, just access the ``config`` attribute:"
   ]
  },
  {
   "cell_type": "code",
   "execution_count": 2,
   "id": "direct-subdivision",
   "metadata": {
    "tags": [
     "raises-exception"
    ]
   },
   "outputs": [
    {
     "ename": "SchemaMissingKeyError",
     "evalue": "Missing key: 'setup'",
     "output_type": "error",
     "traceback": [
      "\u001b[0;31m---------------------------------------------------------------------------\u001b[0m",
      "\u001b[0;31mSchemaMissingKeyError\u001b[0m                     Traceback (most recent call last)",
      "\u001b[0;32m<ipython-input-2-dde38748b755>\u001b[0m in \u001b[0;36m<module>\u001b[0;34m\u001b[0m\n\u001b[0;32m----> 1\u001b[0;31m \u001b[0mprint\u001b[0m\u001b[0;34m(\u001b[0m\u001b[0;34mf'config: {rc.config}'\u001b[0m\u001b[0;34m)\u001b[0m\u001b[0;34m\u001b[0m\u001b[0;34m\u001b[0m\u001b[0m\n\u001b[0m",
      "\u001b[0;32m/usr/local/Cellar/python@3.8/3.8.8_1/envs/tolteca_tutorials/lib/python3.8/site-packages/cached_property.py\u001b[0m in \u001b[0;36m__get__\u001b[0;34m(self, obj, cls)\u001b[0m\n\u001b[1;32m     34\u001b[0m             \u001b[0;32mreturn\u001b[0m \u001b[0mself\u001b[0m\u001b[0;34m.\u001b[0m\u001b[0m_wrap_in_coroutine\u001b[0m\u001b[0;34m(\u001b[0m\u001b[0mobj\u001b[0m\u001b[0;34m)\u001b[0m\u001b[0;34m\u001b[0m\u001b[0;34m\u001b[0m\u001b[0m\n\u001b[1;32m     35\u001b[0m \u001b[0;34m\u001b[0m\u001b[0m\n\u001b[0;32m---> 36\u001b[0;31m         \u001b[0mvalue\u001b[0m \u001b[0;34m=\u001b[0m \u001b[0mobj\u001b[0m\u001b[0;34m.\u001b[0m\u001b[0m__dict__\u001b[0m\u001b[0;34m[\u001b[0m\u001b[0mself\u001b[0m\u001b[0;34m.\u001b[0m\u001b[0mfunc\u001b[0m\u001b[0;34m.\u001b[0m\u001b[0m__name__\u001b[0m\u001b[0;34m]\u001b[0m \u001b[0;34m=\u001b[0m \u001b[0mself\u001b[0m\u001b[0;34m.\u001b[0m\u001b[0mfunc\u001b[0m\u001b[0;34m(\u001b[0m\u001b[0mobj\u001b[0m\u001b[0;34m)\u001b[0m\u001b[0;34m\u001b[0m\u001b[0;34m\u001b[0m\u001b[0m\n\u001b[0m\u001b[1;32m     37\u001b[0m         \u001b[0;32mreturn\u001b[0m \u001b[0mvalue\u001b[0m\u001b[0;34m\u001b[0m\u001b[0;34m\u001b[0m\u001b[0m\n\u001b[1;32m     38\u001b[0m \u001b[0;34m\u001b[0m\u001b[0m\n",
      "\u001b[0;32m~/Codes/toltec/py/tolteca/tolteca/utils/__init__.py\u001b[0m in \u001b[0;36mconfig\u001b[0;34m(self)\u001b[0m\n\u001b[1;32m    145\u001b[0m                                 f\" No top level dict found.\")\n\u001b[1;32m    146\u001b[0m                     \u001b[0mrupdate\u001b[0m\u001b[0;34m(\u001b[0m\u001b[0mcfg\u001b[0m\u001b[0;34m,\u001b[0m \u001b[0mc\u001b[0m\u001b[0;34m)\u001b[0m\u001b[0;34m\u001b[0m\u001b[0;34m\u001b[0m\u001b[0m\n\u001b[0;32m--> 147\u001b[0;31m         \u001b[0mcfg\u001b[0m \u001b[0;34m=\u001b[0m \u001b[0mself\u001b[0m\u001b[0;34m.\u001b[0m\u001b[0mvalidate_config\u001b[0m\u001b[0;34m(\u001b[0m\u001b[0mcfg\u001b[0m\u001b[0;34m)\u001b[0m\u001b[0;34m\u001b[0m\u001b[0;34m\u001b[0m\u001b[0m\n\u001b[0m\u001b[1;32m    148\u001b[0m         \u001b[0;31m# update runtime info\u001b[0m\u001b[0;34m\u001b[0m\u001b[0;34m\u001b[0m\u001b[0;34m\u001b[0m\u001b[0m\n\u001b[1;32m    149\u001b[0m         \u001b[0mcfg\u001b[0m\u001b[0;34m[\u001b[0m\u001b[0;34m'runtime'\u001b[0m\u001b[0;34m]\u001b[0m \u001b[0;34m=\u001b[0m \u001b[0mself\u001b[0m\u001b[0;34m.\u001b[0m\u001b[0mto_dict\u001b[0m\u001b[0;34m(\u001b[0m\u001b[0;34m)\u001b[0m\u001b[0;34m\u001b[0m\u001b[0;34m\u001b[0m\u001b[0m\n",
      "\u001b[0;32m~/Codes/toltec/py/tolteca/tolteca/utils/__init__.py\u001b[0m in \u001b[0;36mvalidate_config\u001b[0;34m(cls, cfg)\u001b[0m\n\u001b[1;32m    155\u001b[0m         \u001b[0;32mif\u001b[0m \u001b[0mcfg\u001b[0m \u001b[0;32mis\u001b[0m \u001b[0;32mNone\u001b[0m\u001b[0;34m:\u001b[0m\u001b[0;34m\u001b[0m\u001b[0;34m\u001b[0m\u001b[0m\n\u001b[1;32m    156\u001b[0m             \u001b[0;32mreturn\u001b[0m \u001b[0;32mNone\u001b[0m\u001b[0;34m\u001b[0m\u001b[0;34m\u001b[0m\u001b[0m\n\u001b[0;32m--> 157\u001b[0;31m         \u001b[0;32mreturn\u001b[0m \u001b[0mcls\u001b[0m\u001b[0;34m.\u001b[0m\u001b[0mget_config_schema\u001b[0m\u001b[0;34m(\u001b[0m\u001b[0;34m)\u001b[0m\u001b[0;34m.\u001b[0m\u001b[0mvalidate\u001b[0m\u001b[0;34m(\u001b[0m\u001b[0mcfg\u001b[0m\u001b[0;34m)\u001b[0m\u001b[0;34m\u001b[0m\u001b[0;34m\u001b[0m\u001b[0m\n\u001b[0m\u001b[1;32m    158\u001b[0m \u001b[0;34m\u001b[0m\u001b[0m\n\u001b[1;32m    159\u001b[0m     \u001b[0;34m@\u001b[0m\u001b[0mclassmethod\u001b[0m\u001b[0;34m\u001b[0m\u001b[0;34m\u001b[0m\u001b[0m\n",
      "\u001b[0;32m/usr/local/Cellar/python@3.8/3.8.8_1/envs/tolteca_tutorials/lib/python3.8/site-packages/schema.py\u001b[0m in \u001b[0;36mvalidate\u001b[0;34m(self, data)\u001b[0m\n\u001b[1;32m    409\u001b[0m                 \u001b[0mmessage\u001b[0m \u001b[0;34m=\u001b[0m \u001b[0;34m\"Missing key%s: %s\"\u001b[0m \u001b[0;34m%\u001b[0m \u001b[0;34m(\u001b[0m\u001b[0m_plural_s\u001b[0m\u001b[0;34m(\u001b[0m\u001b[0mmissing_keys\u001b[0m\u001b[0;34m)\u001b[0m\u001b[0;34m,\u001b[0m \u001b[0ms_missing_keys\u001b[0m\u001b[0;34m)\u001b[0m\u001b[0;34m\u001b[0m\u001b[0;34m\u001b[0m\u001b[0m\n\u001b[1;32m    410\u001b[0m                 \u001b[0mmessage\u001b[0m \u001b[0;34m=\u001b[0m \u001b[0mself\u001b[0m\u001b[0;34m.\u001b[0m\u001b[0m_prepend_schema_name\u001b[0m\u001b[0;34m(\u001b[0m\u001b[0mmessage\u001b[0m\u001b[0;34m)\u001b[0m\u001b[0;34m\u001b[0m\u001b[0;34m\u001b[0m\u001b[0m\n\u001b[0;32m--> 411\u001b[0;31m                 \u001b[0;32mraise\u001b[0m \u001b[0mSchemaMissingKeyError\u001b[0m\u001b[0;34m(\u001b[0m\u001b[0mmessage\u001b[0m\u001b[0;34m,\u001b[0m \u001b[0me\u001b[0m\u001b[0;34m.\u001b[0m\u001b[0mformat\u001b[0m\u001b[0;34m(\u001b[0m\u001b[0mdata\u001b[0m\u001b[0;34m)\u001b[0m \u001b[0;32mif\u001b[0m \u001b[0me\u001b[0m \u001b[0;32melse\u001b[0m \u001b[0;32mNone\u001b[0m\u001b[0;34m)\u001b[0m\u001b[0;34m\u001b[0m\u001b[0;34m\u001b[0m\u001b[0m\n\u001b[0m\u001b[1;32m    412\u001b[0m             \u001b[0;32mif\u001b[0m \u001b[0;32mnot\u001b[0m \u001b[0mself\u001b[0m\u001b[0;34m.\u001b[0m\u001b[0m_ignore_extra_keys\u001b[0m \u001b[0;32mand\u001b[0m \u001b[0;34m(\u001b[0m\u001b[0mlen\u001b[0m\u001b[0;34m(\u001b[0m\u001b[0mnew\u001b[0m\u001b[0;34m)\u001b[0m \u001b[0;34m!=\u001b[0m \u001b[0mlen\u001b[0m\u001b[0;34m(\u001b[0m\u001b[0mdata\u001b[0m\u001b[0;34m)\u001b[0m\u001b[0;34m)\u001b[0m\u001b[0;34m:\u001b[0m\u001b[0;34m\u001b[0m\u001b[0;34m\u001b[0m\u001b[0m\n\u001b[1;32m    413\u001b[0m                 \u001b[0mwrong_keys\u001b[0m \u001b[0;34m=\u001b[0m \u001b[0mset\u001b[0m\u001b[0;34m(\u001b[0m\u001b[0mdata\u001b[0m\u001b[0;34m.\u001b[0m\u001b[0mkeys\u001b[0m\u001b[0;34m(\u001b[0m\u001b[0;34m)\u001b[0m\u001b[0;34m)\u001b[0m \u001b[0;34m-\u001b[0m \u001b[0mset\u001b[0m\u001b[0;34m(\u001b[0m\u001b[0mnew\u001b[0m\u001b[0;34m.\u001b[0m\u001b[0mkeys\u001b[0m\u001b[0;34m(\u001b[0m\u001b[0;34m)\u001b[0m\u001b[0;34m)\u001b[0m\u001b[0;34m\u001b[0m\u001b[0;34m\u001b[0m\u001b[0m\n",
      "\u001b[0;31mSchemaMissingKeyError\u001b[0m: Missing key: 'setup'"
     ]
    }
   ],
   "source": [
    "print(f'config: {rc.config}')"
   ]
  },
  {
   "cell_type": "markdown",
   "id": "dated-spanish",
   "metadata": {},
   "source": [
    "The reason of the exception is that we have not \"setup\" the runtime context properly. The setup step is to \"initialize\" the workdir, so later tolteca runs can recognize the context. To setup,"
   ]
  },
  {
   "cell_type": "code",
   "execution_count": 3,
   "id": "going-locking",
   "metadata": {},
   "outputs": [
    {
     "name": "stdout",
     "output_type": "stream",
     "text": [
      "\n",
      "runtime:\n",
      "  bindir: /private/var/folders/zc/33kgh8vx3z37kpp6xf84bzvm0000gn/T/tmpozpsxj6c/bin\n",
      "  caldir: /private/var/folders/zc/33kgh8vx3z37kpp6xf84bzvm0000gn/T/tmpozpsxj6c/cal\n",
      "  logdir: /private/var/folders/zc/33kgh8vx3z37kpp6xf84bzvm0000gn/T/tmpozpsxj6c/log\n",
      "  rootpath: /private/var/folders/zc/33kgh8vx3z37kpp6xf84bzvm0000gn/T/tmpozpsxj6c\n",
      "  setup_file: /private/var/folders/zc/33kgh8vx3z37kpp6xf84bzvm0000gn/T/tmpozpsxj6c/50_setup.yaml\n",
      "setup:\n",
      "  created_at: 2021-04-15T15:41:08.065\n",
      "  version: 0.1.dev268+ga76764d\n",
      "\n"
     ]
    }
   ],
   "source": [
    "rc.setup()\n",
    "\n",
    "from tollan.utils.fmt import pformat_yaml  # pretty print the config\n",
    "print(pformat_yaml(rc.config))"
   ]
  },
  {
   "cell_type": "markdown",
   "id": "british-boring",
   "metadata": {},
   "source": [
    "The ``setup()`` method also support adding custom records as follows (note the ``overwrite=True``, otherwise the ``setup()`` will not be on an already setup runtime context):"
   ]
  },
  {
   "cell_type": "code",
   "execution_count": 4,
   "id": "departmental-shooting",
   "metadata": {},
   "outputs": [
    {
     "name": "stdout",
     "output_type": "stream",
     "text": [
      "\n",
      "my_info:\n",
      "  foo: bar\n",
      "runtime:\n",
      "  bindir: /private/var/folders/zc/33kgh8vx3z37kpp6xf84bzvm0000gn/T/tmpozpsxj6c/bin\n",
      "  caldir: /private/var/folders/zc/33kgh8vx3z37kpp6xf84bzvm0000gn/T/tmpozpsxj6c/cal\n",
      "  logdir: /private/var/folders/zc/33kgh8vx3z37kpp6xf84bzvm0000gn/T/tmpozpsxj6c/log\n",
      "  rootpath: /private/var/folders/zc/33kgh8vx3z37kpp6xf84bzvm0000gn/T/tmpozpsxj6c\n",
      "  setup_file: /private/var/folders/zc/33kgh8vx3z37kpp6xf84bzvm0000gn/T/tmpozpsxj6c/50_setup.yaml\n",
      "setup:\n",
      "  baz: boo\n",
      "  created_at: 2021-04-15T15:41:08.315\n",
      "  version: 0.1.dev268+ga76764d\n",
      "\n"
     ]
    }
   ],
   "source": [
    "rc.setup(config={\n",
    "    'my_info': {'foo': 'bar'},\n",
    "    'setup': {'baz': 'boo'}\n",
    "    }, overwrite=True)\n",
    "print(pformat_yaml(rc.config))"
   ]
  },
  {
   "cell_type": "markdown",
   "id": "legal-broadcasting",
   "metadata": {},
   "source": [
    "Now we have the workdir setup, we can go back and pretend that we already have a valid tolteca workdir, in which case we can just load the runtime context directly without needing to create and setup again (note how our custom records get loaded as well):"
   ]
  },
  {
   "cell_type": "code",
   "execution_count": 5,
   "id": "stuck-fetish",
   "metadata": {},
   "outputs": [
    {
     "name": "stdout",
     "output_type": "stream",
     "text": [
      "Created runtime context RuntimeContext(/private/var/folders/zc/33kgh8vx3z37kpp6xf84bzvm0000gn/T/tmpozpsxj6c)\n",
      "Config files in the rc: [PosixPath('/private/var/folders/zc/33kgh8vx3z37kpp6xf84bzvm0000gn/T/tmpozpsxj6c/50_setup.yaml')]\n",
      "Config:\n",
      "\n",
      "my_info:\n",
      "  foo: bar\n",
      "runtime:\n",
      "  bindir: /private/var/folders/zc/33kgh8vx3z37kpp6xf84bzvm0000gn/T/tmpozpsxj6c/bin\n",
      "  caldir: /private/var/folders/zc/33kgh8vx3z37kpp6xf84bzvm0000gn/T/tmpozpsxj6c/cal\n",
      "  logdir: /private/var/folders/zc/33kgh8vx3z37kpp6xf84bzvm0000gn/T/tmpozpsxj6c/log\n",
      "  rootpath: /private/var/folders/zc/33kgh8vx3z37kpp6xf84bzvm0000gn/T/tmpozpsxj6c\n",
      "  setup_file: /private/var/folders/zc/33kgh8vx3z37kpp6xf84bzvm0000gn/T/tmpozpsxj6c/50_setup.yaml\n",
      "setup:\n",
      "  baz: boo\n",
      "  created_at: 2021-04-15T15:41:08.315\n",
      "  version: 0.1.dev268+ga76764d\n",
      "\n"
     ]
    }
   ],
   "source": [
    "try:\n",
    "    del rc  # just to make sure we don't get confused with the old rc object.\n",
    "except Exception:\n",
    "    pass\n",
    "rc = RuntimeContext(rootpath=workdir)\n",
    "print(f'Created runtime context {rc}')\n",
    "print(f'Config files in the rc: {rc.config_files}')\n",
    "print(f'Config:\\n{pformat_yaml(rc.config)}')"
   ]
  },
  {
   "cell_type": "markdown",
   "id": "british-colorado",
   "metadata": {},
   "source": [
    "## Create simulated data\n",
    "\n",
    "Tolteca.simu provides a set of tools to create simulated data. To run the simulator, we will need our workdir that we just setup, but with more information.\n",
    "\n",
    "The tolteca.simu comes with its own subclass of `RuntimeContext`, namely, `SimulatorRuntime`. The simulator runtime manages simulator related configurations loaded from the workdir. To create the simulator runtime, we do the follows:"
   ]
  },
  {
   "cell_type": "code",
   "execution_count": 6,
   "id": "traditional-elder",
   "metadata": {
    "tags": [
     "raises-exception"
    ]
   },
   "outputs": [
    {
     "name": "stdout",
     "output_type": "stream",
     "text": [
      "Created runtime context SimulatorRuntime(/private/var/folders/zc/33kgh8vx3z37kpp6xf84bzvm0000gn/T/tmpozpsxj6c)\n",
      "Config files in the rc: [PosixPath('/private/var/folders/zc/33kgh8vx3z37kpp6xf84bzvm0000gn/T/tmpozpsxj6c/50_setup.yaml')]\n"
     ]
    },
    {
     "ename": "SchemaMissingKeyError",
     "evalue": "Missing key: 'simu'",
     "output_type": "error",
     "traceback": [
      "\u001b[0;31m---------------------------------------------------------------------------\u001b[0m",
      "\u001b[0;31mSchemaMissingKeyError\u001b[0m                     Traceback (most recent call last)",
      "\u001b[0;32m<ipython-input-6-add96175c9b1>\u001b[0m in \u001b[0;36m<module>\u001b[0;34m\u001b[0m\n\u001b[1;32m      3\u001b[0m \u001b[0mprint\u001b[0m\u001b[0;34m(\u001b[0m\u001b[0;34mf'Created runtime context {rc}'\u001b[0m\u001b[0;34m)\u001b[0m\u001b[0;34m\u001b[0m\u001b[0;34m\u001b[0m\u001b[0m\n\u001b[1;32m      4\u001b[0m \u001b[0mprint\u001b[0m\u001b[0;34m(\u001b[0m\u001b[0;34mf'Config files in the rc: {rc.config_files}'\u001b[0m\u001b[0;34m)\u001b[0m\u001b[0;34m\u001b[0m\u001b[0;34m\u001b[0m\u001b[0m\n\u001b[0;32m----> 5\u001b[0;31m \u001b[0mprint\u001b[0m\u001b[0;34m(\u001b[0m\u001b[0;34mf'Config:\\n{pformat_yaml(rc.config)}'\u001b[0m\u001b[0;34m)\u001b[0m\u001b[0;34m\u001b[0m\u001b[0;34m\u001b[0m\u001b[0m\n\u001b[0m",
      "\u001b[0;32m/usr/local/Cellar/python@3.8/3.8.8_1/envs/tolteca_tutorials/lib/python3.8/site-packages/cached_property.py\u001b[0m in \u001b[0;36m__get__\u001b[0;34m(self, obj, cls)\u001b[0m\n\u001b[1;32m     34\u001b[0m             \u001b[0;32mreturn\u001b[0m \u001b[0mself\u001b[0m\u001b[0;34m.\u001b[0m\u001b[0m_wrap_in_coroutine\u001b[0m\u001b[0;34m(\u001b[0m\u001b[0mobj\u001b[0m\u001b[0;34m)\u001b[0m\u001b[0;34m\u001b[0m\u001b[0;34m\u001b[0m\u001b[0m\n\u001b[1;32m     35\u001b[0m \u001b[0;34m\u001b[0m\u001b[0m\n\u001b[0;32m---> 36\u001b[0;31m         \u001b[0mvalue\u001b[0m \u001b[0;34m=\u001b[0m \u001b[0mobj\u001b[0m\u001b[0;34m.\u001b[0m\u001b[0m__dict__\u001b[0m\u001b[0;34m[\u001b[0m\u001b[0mself\u001b[0m\u001b[0;34m.\u001b[0m\u001b[0mfunc\u001b[0m\u001b[0;34m.\u001b[0m\u001b[0m__name__\u001b[0m\u001b[0;34m]\u001b[0m \u001b[0;34m=\u001b[0m \u001b[0mself\u001b[0m\u001b[0;34m.\u001b[0m\u001b[0mfunc\u001b[0m\u001b[0;34m(\u001b[0m\u001b[0mobj\u001b[0m\u001b[0;34m)\u001b[0m\u001b[0;34m\u001b[0m\u001b[0;34m\u001b[0m\u001b[0m\n\u001b[0m\u001b[1;32m     37\u001b[0m         \u001b[0;32mreturn\u001b[0m \u001b[0mvalue\u001b[0m\u001b[0;34m\u001b[0m\u001b[0;34m\u001b[0m\u001b[0m\n\u001b[1;32m     38\u001b[0m \u001b[0;34m\u001b[0m\u001b[0m\n",
      "\u001b[0;32m~/Codes/toltec/py/tolteca/tolteca/utils/__init__.py\u001b[0m in \u001b[0;36mconfig\u001b[0;34m(self)\u001b[0m\n\u001b[1;32m    145\u001b[0m                                 f\" No top level dict found.\")\n\u001b[1;32m    146\u001b[0m                     \u001b[0mrupdate\u001b[0m\u001b[0;34m(\u001b[0m\u001b[0mcfg\u001b[0m\u001b[0;34m,\u001b[0m \u001b[0mc\u001b[0m\u001b[0;34m)\u001b[0m\u001b[0;34m\u001b[0m\u001b[0;34m\u001b[0m\u001b[0m\n\u001b[0;32m--> 147\u001b[0;31m         \u001b[0mcfg\u001b[0m \u001b[0;34m=\u001b[0m \u001b[0mself\u001b[0m\u001b[0;34m.\u001b[0m\u001b[0mvalidate_config\u001b[0m\u001b[0;34m(\u001b[0m\u001b[0mcfg\u001b[0m\u001b[0;34m)\u001b[0m\u001b[0;34m\u001b[0m\u001b[0;34m\u001b[0m\u001b[0m\n\u001b[0m\u001b[1;32m    148\u001b[0m         \u001b[0;31m# update runtime info\u001b[0m\u001b[0;34m\u001b[0m\u001b[0;34m\u001b[0m\u001b[0;34m\u001b[0m\u001b[0m\n\u001b[1;32m    149\u001b[0m         \u001b[0mcfg\u001b[0m\u001b[0;34m[\u001b[0m\u001b[0;34m'runtime'\u001b[0m\u001b[0;34m]\u001b[0m \u001b[0;34m=\u001b[0m \u001b[0mself\u001b[0m\u001b[0;34m.\u001b[0m\u001b[0mto_dict\u001b[0m\u001b[0;34m(\u001b[0m\u001b[0;34m)\u001b[0m\u001b[0;34m\u001b[0m\u001b[0;34m\u001b[0m\u001b[0m\n",
      "\u001b[0;32m~/Codes/toltec/py/tolteca/tolteca/utils/__init__.py\u001b[0m in \u001b[0;36mvalidate_config\u001b[0;34m(cls, cfg)\u001b[0m\n\u001b[1;32m    155\u001b[0m         \u001b[0;32mif\u001b[0m \u001b[0mcfg\u001b[0m \u001b[0;32mis\u001b[0m \u001b[0;32mNone\u001b[0m\u001b[0;34m:\u001b[0m\u001b[0;34m\u001b[0m\u001b[0;34m\u001b[0m\u001b[0m\n\u001b[1;32m    156\u001b[0m             \u001b[0;32mreturn\u001b[0m \u001b[0;32mNone\u001b[0m\u001b[0;34m\u001b[0m\u001b[0;34m\u001b[0m\u001b[0m\n\u001b[0;32m--> 157\u001b[0;31m         \u001b[0;32mreturn\u001b[0m \u001b[0mcls\u001b[0m\u001b[0;34m.\u001b[0m\u001b[0mget_config_schema\u001b[0m\u001b[0;34m(\u001b[0m\u001b[0;34m)\u001b[0m\u001b[0;34m.\u001b[0m\u001b[0mvalidate\u001b[0m\u001b[0;34m(\u001b[0m\u001b[0mcfg\u001b[0m\u001b[0;34m)\u001b[0m\u001b[0;34m\u001b[0m\u001b[0;34m\u001b[0m\u001b[0m\n\u001b[0m\u001b[1;32m    158\u001b[0m \u001b[0;34m\u001b[0m\u001b[0m\n\u001b[1;32m    159\u001b[0m     \u001b[0;34m@\u001b[0m\u001b[0mclassmethod\u001b[0m\u001b[0;34m\u001b[0m\u001b[0;34m\u001b[0m\u001b[0m\n",
      "\u001b[0;32m/usr/local/Cellar/python@3.8/3.8.8_1/envs/tolteca_tutorials/lib/python3.8/site-packages/schema.py\u001b[0m in \u001b[0;36mvalidate\u001b[0;34m(self, data)\u001b[0m\n\u001b[1;32m    409\u001b[0m                 \u001b[0mmessage\u001b[0m \u001b[0;34m=\u001b[0m \u001b[0;34m\"Missing key%s: %s\"\u001b[0m \u001b[0;34m%\u001b[0m \u001b[0;34m(\u001b[0m\u001b[0m_plural_s\u001b[0m\u001b[0;34m(\u001b[0m\u001b[0mmissing_keys\u001b[0m\u001b[0;34m)\u001b[0m\u001b[0;34m,\u001b[0m \u001b[0ms_missing_keys\u001b[0m\u001b[0;34m)\u001b[0m\u001b[0;34m\u001b[0m\u001b[0;34m\u001b[0m\u001b[0m\n\u001b[1;32m    410\u001b[0m                 \u001b[0mmessage\u001b[0m \u001b[0;34m=\u001b[0m \u001b[0mself\u001b[0m\u001b[0;34m.\u001b[0m\u001b[0m_prepend_schema_name\u001b[0m\u001b[0;34m(\u001b[0m\u001b[0mmessage\u001b[0m\u001b[0;34m)\u001b[0m\u001b[0;34m\u001b[0m\u001b[0;34m\u001b[0m\u001b[0m\n\u001b[0;32m--> 411\u001b[0;31m                 \u001b[0;32mraise\u001b[0m \u001b[0mSchemaMissingKeyError\u001b[0m\u001b[0;34m(\u001b[0m\u001b[0mmessage\u001b[0m\u001b[0;34m,\u001b[0m \u001b[0me\u001b[0m\u001b[0;34m.\u001b[0m\u001b[0mformat\u001b[0m\u001b[0;34m(\u001b[0m\u001b[0mdata\u001b[0m\u001b[0;34m)\u001b[0m \u001b[0;32mif\u001b[0m \u001b[0me\u001b[0m \u001b[0;32melse\u001b[0m \u001b[0;32mNone\u001b[0m\u001b[0;34m)\u001b[0m\u001b[0;34m\u001b[0m\u001b[0;34m\u001b[0m\u001b[0m\n\u001b[0m\u001b[1;32m    412\u001b[0m             \u001b[0;32mif\u001b[0m \u001b[0;32mnot\u001b[0m \u001b[0mself\u001b[0m\u001b[0;34m.\u001b[0m\u001b[0m_ignore_extra_keys\u001b[0m \u001b[0;32mand\u001b[0m \u001b[0;34m(\u001b[0m\u001b[0mlen\u001b[0m\u001b[0;34m(\u001b[0m\u001b[0mnew\u001b[0m\u001b[0;34m)\u001b[0m \u001b[0;34m!=\u001b[0m \u001b[0mlen\u001b[0m\u001b[0;34m(\u001b[0m\u001b[0mdata\u001b[0m\u001b[0;34m)\u001b[0m\u001b[0;34m)\u001b[0m\u001b[0;34m:\u001b[0m\u001b[0;34m\u001b[0m\u001b[0;34m\u001b[0m\u001b[0m\n\u001b[1;32m    413\u001b[0m                 \u001b[0mwrong_keys\u001b[0m \u001b[0;34m=\u001b[0m \u001b[0mset\u001b[0m\u001b[0;34m(\u001b[0m\u001b[0mdata\u001b[0m\u001b[0;34m.\u001b[0m\u001b[0mkeys\u001b[0m\u001b[0;34m(\u001b[0m\u001b[0;34m)\u001b[0m\u001b[0;34m)\u001b[0m \u001b[0;34m-\u001b[0m \u001b[0mset\u001b[0m\u001b[0;34m(\u001b[0m\u001b[0mnew\u001b[0m\u001b[0;34m.\u001b[0m\u001b[0mkeys\u001b[0m\u001b[0;34m(\u001b[0m\u001b[0;34m)\u001b[0m\u001b[0;34m)\u001b[0m\u001b[0;34m\u001b[0m\u001b[0;34m\u001b[0m\u001b[0m\n",
      "\u001b[0;31mSchemaMissingKeyError\u001b[0m: Missing key: 'simu'"
     ]
    }
   ],
   "source": [
    "from tolteca.simu import SimulatorRuntime\n",
    "rc = SimulatorRuntime(rootpath=workdir)\n",
    "print(f'Created runtime context {rc}')\n",
    "print(f'Config files in the rc: {rc.config_files}')\n",
    "print(f'Config:\\n{pformat_yaml(rc.config)}')"
   ]
  },
  {
   "cell_type": "markdown",
   "id": "organized-leisure",
   "metadata": {},
   "source": [
    "The reason of the exception is that we have not \"setup\" the simulator properly. The simulator expects a branch of config entries under the key ``simu``, stored in one of the YAML files found in the workdir.\n",
    "\n",
    "The tolteca.simu has a set of \"built-in\" configurations that one can use readily, one of which is 'toltec_point_source'. Let's dump this config to the workdir with file name \"60_simu.yaml\". Note the format ``\\d+_.+.yaml``, this is the convention of the YAML config files to be recongnized by the tolteca runtime context. The files with lower number are overriden by those with higher number."
   ]
  },
  {
   "cell_type": "code",
   "execution_count": 7,
   "id": "exact-romantic",
   "metadata": {},
   "outputs": [
    {
     "name": "stdout",
     "output_type": "stream",
     "text": [
      "\n",
      "simu:\n",
      "  instrument:\n",
      "    calobj: cal/calobj_default/index.yaml\n",
      "    name: toltec\n",
      "  jobkey: toltec_point_source\n",
      "  mapping:\n",
      "    length: '1. arcmin'\n",
      "    n_scans: 40\n",
      "    ref_frame: icrs\n",
      "    rot: '0. deg'\n",
      "    space: '1.5 arcsec'\n",
      "    speed: '1. arcmin/s'\n",
      "    t0: 2020-04-12 00:00:00\n",
      "    t_turnover: '0.1 s'\n",
      "    target: '92d -7d'\n",
      "    type: tolteca.simu:SkyRasterScanModel\n",
      "  obs_params:\n",
      "    f_smp_data: '122. Hz'\n",
      "    f_smp_mapping: '12 Hz'\n",
      "    t_exp: '1 ct'\n",
      "  sources:\n",
      "    - colname_map:\n",
      "        a1100: flux_a1100\n",
      "        a1400: flux_a1400\n",
      "        a2000: flux_a2000\n",
      "        dec: dec\n",
      "        name: name\n",
      "        ra: ra\n",
      "      filepath: toltec_sources.asc\n",
      "      grouping: array_name\n",
      "      type: point_source_catalog\n",
      "\n"
     ]
    }
   ],
   "source": [
    "from tolteca.simu import example_configs as cfgs\n",
    "cfg = cfgs['toltec_point_source']\n",
    "print(pformat_yaml(cfg))\n",
    "\n",
    "import yaml\n",
    "with open(rc.rootpath.joinpath('60_simu.yaml'), 'w') as fo:\n",
    "    yaml.dump(cfg, fo)"
   ]
  },
  {
   "cell_type": "markdown",
   "id": "patient-contract",
   "metadata": {},
   "source": [
    "Now we re-visit the ``config`` attribute of the simulator runtime. We should see the new 60_simu.yaml file is suceessfully picked up and no more complains about missing configuration keys."
   ]
  },
  {
   "cell_type": "code",
   "execution_count": 8,
   "id": "worthy-affairs",
   "metadata": {},
   "outputs": [
    {
     "name": "stdout",
     "output_type": "stream",
     "text": [
      "Config:\n",
      "\n",
      "my_info:\n",
      "  foo: bar\n",
      "runtime:\n",
      "  bindir: /private/var/folders/zc/33kgh8vx3z37kpp6xf84bzvm0000gn/T/tmpozpsxj6c/bin\n",
      "  caldir: /private/var/folders/zc/33kgh8vx3z37kpp6xf84bzvm0000gn/T/tmpozpsxj6c/cal\n",
      "  logdir: /private/var/folders/zc/33kgh8vx3z37kpp6xf84bzvm0000gn/T/tmpozpsxj6c/log\n",
      "  rootpath: /private/var/folders/zc/33kgh8vx3z37kpp6xf84bzvm0000gn/T/tmpozpsxj6c\n",
      "  setup_file: /private/var/folders/zc/33kgh8vx3z37kpp6xf84bzvm0000gn/T/tmpozpsxj6c/50_setup.yaml\n",
      "setup:\n",
      "  baz: boo\n",
      "  created_at: 2021-04-15T15:41:08.315\n",
      "  version: 0.1.dev268+ga76764d\n",
      "simu:\n",
      "  instrument:\n",
      "    calobj: cal/calobj_default/index.yaml\n",
      "    name: toltec\n",
      "  jobkey: toltec_point_source\n",
      "  mapping:\n",
      "    length: '1. arcmin'\n",
      "    n_scans: 40\n",
      "    ref_frame: icrs\n",
      "    rot: '0. deg'\n",
      "    space: '1.5 arcsec'\n",
      "    speed: '1. arcmin/s'\n",
      "    t0: 2020-04-12 00:00:00\n",
      "    t_turnover: '0.1 s'\n",
      "    target: '92d -7d'\n",
      "    type: tolteca.simu:SkyRasterScanModel\n",
      "  mapping_only: false\n",
      "  obs_params:\n",
      "    f_smp_data: 122.0 Hz\n",
      "    f_smp_mapping: 12.0 Hz\n",
      "    t_exp: 1.0 ct\n",
      "  perf_params: {}\n",
      "  plot: false\n",
      "  save: false\n",
      "  sources:\n",
      "    - colname_map:\n",
      "        a1100: flux_a1100\n",
      "        a1400: flux_a1400\n",
      "        a2000: flux_a2000\n",
      "        dec: dec\n",
      "        name: name\n",
      "        ra: ra\n",
      "      filepath: toltec_sources.asc\n",
      "      grouping: array_name\n",
      "      type: point_source_catalog\n",
      "\n"
     ]
    }
   ],
   "source": [
    "print(f'Config:\\n{pformat_yaml(rc.config)}')"
   ]
  },
  {
   "cell_type": "markdown",
   "id": "driven-application",
   "metadata": {},
   "source": [
    "The simulator configuration defines the on-the-fly mapping pattern, the input sources, and the instrument to simulate. Under the hood, each of these aspects is managed by its own class and one can inspect through the methods.\n",
    "\n",
    "First, we can try plot the mapping pattern:"
   ]
  },
  {
   "cell_type": "code",
   "execution_count": 48,
   "id": "desperate-absence",
   "metadata": {},
   "outputs": [
    {
     "name": "stderr",
     "output_type": "stream",
     "text": [
      "WARNING: InputWarning: Coordinate string is being interpreted as an ICRS coordinate. [astroquery.utils.commons]\n"
     ]
    },
    {
     "name": "stdout",
     "output_type": "stream",
     "text": [
      "mapping model:\n",
      "Model: SkyRasterScanModel\n",
      "Inputs: ('t',)\n",
      "Outputs: ('lon', 'lat')\n",
      "Model set size: 1\n",
      "Parameters:\n",
      "    length space  n_scans rot   speed    t_turnover\n",
      "    arcmin arcsec         deg arcmin / s     s     \n",
      "    ------ ------ ------- --- ---------- ----------\n",
      "       1.0    1.5    40.0 0.0        1.0        0.1\n",
      "mapping target: <SkyCoord (ICRS): (ra, dec) in deg\n",
      "    (92., -7.)>\n",
      "time to finish mapping: 43.9 s\n"
     ]
    },
    {
     "data": {
      "image/png": "[encoded data removed]",
      "text/plain": [
       "<Figure size 720x360 with 2 Axes>"
      ]
     },
     "metadata": {
      "needs_background": "light"
     },
     "output_type": "display_data"
    }
   ],
   "source": [
    "mapping = rc.get_mapping_model()\n",
    "print(f'mapping model:\\n{mapping}')\n",
    "# the time to finish the mapping can be obtained from the mapping model\n",
    "mapping_time = mapping.get_total_time()\n",
    "\n",
    "# to plot the pattern, let's genrate some sampling points\n",
    "# For plotting, we just use a linspace grid here, but in the actual simulator run\n",
    "# it makes use of the obs params \"f_smp_mapping\" as the sampling frequency\n",
    "t = np.linspace(0, mapping_time, 1000)\n",
    "\n",
    "mapping_offsets = mapping(t)  # this is the offsets from bore sight\n",
    "\n",
    "# to evaluate mapping pattern around a coordinates, use evaluate_at\n",
    "# The frame of input coordinates will be assumed for the offsets\n",
    "# here the mapping target from the config is given in equitorial\n",
    "# so the mapping will be along equitorial coordinate frame\n",
    "target_coord = mapping.target\n",
    "print(f'mapping target: {mapping.target}')\n",
    "\n",
    "mapping_coords = mapping.evaluate_at(target_coord, t)\n",
    "\n",
    "import astropy.units as u\n",
    "\n",
    "fig = plt.figure(figsize=(10, 5))\n",
    "fig.subplots_adjust(wspace=0.7)\n",
    "# the bore sight offsets\n",
    "ax = fig.add_subplot(1, 2, 1)\n",
    "ax.set_aspect('equal')\n",
    "ax.plot(\n",
    "    mapping_offsets[0].to_value(u.arcmin),\n",
    "    mapping_offsets[1].to_value(u.arcmin),\n",
    "    marker='.',\n",
    "    )\n",
    "ax.plot(0, 0, marker='o', color='red')  # the target\n",
    "ax.set_xlabel('lon. offset (arcmin)')\n",
    "ax.set_ylabel('lat. offset (arcmin)')\n",
    "\n",
    "# the sky coords, which we need an fiducial wcs object\n",
    "# to plot in the ref frame of target coords, i.e., ICRS\n",
    "from astropy.wcs.utils import celestial_frame_to_wcs\n",
    "w = celestial_frame_to_wcs(target_coords.frame)\n",
    "# set the crval to target\n",
    "w.wcs.crval = np.array([target_coord.ra.degree, target_coord.dec.degree])\n",
    "ax = fig.add_subplot(1, 2, 2, projection=w)\n",
    "ax.set_aspect('equal')\n",
    "ax.plot(\n",
    "    mapping_coords.ra.degree,\n",
    "    mapping_coords.dec.degree,\n",
    "    transform=ax.get_transform('icrs'),\n",
    "    marker='.',\n",
    "    )\n",
    "ax.plot(\n",
    "    target_coord.ra.degree, target_coord.dec.degree,\n",
    "    transform=ax.get_transform('icrs'),\n",
    "    marker='o', color='red',\n",
    "    )\n",
    "ax.coords[0].set_ticklabel(exclude_overlapping=True)\n",
    "ax.tick_params(axis='y', labelrotation=45)\n",
    "print(f'time to finish mapping: {t_mapping}')"
   ]
  },
  {
   "cell_type": "code",
   "execution_count": null,
   "id": "natural-jones",
   "metadata": {},
   "outputs": [],
   "source": []
  }
 ],
 "metadata": {
  "celltoolbar": "Edit Metadata",
  "kernelspec": {
   "display_name": "Python (tolteca-tutorials)",
   "language": "python",
   "name": "tolteca-tutorials"
  },
  "language_info": {
   "codemirror_mode": {
    "name": "ipython",
    "version": 3
   },
   "file_extension": ".py",
   "mimetype": "text/x-python",
   "name": "python",
   "nbconvert_exporter": "python",
   "pygments_lexer": "ipython3",
   "version": "3.8.8"
  }
 },
 "nbformat": 4,
 "nbformat_minor": 5
}
