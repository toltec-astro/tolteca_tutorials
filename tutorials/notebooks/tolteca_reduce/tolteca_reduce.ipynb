{
 "cells": [
  {
   "cell_type": "markdown",
   "id": "reverse-cursor",
   "metadata": {},
   "source": [
    "# Work with the data reduction submodule\n",
    "\n",
    "## Authors\n",
    "Zhiyuan Ma\n",
    "\n",
    "## Learning Goals\n",
    "* Learn the concept of ``RuntimeContext``, which is the primary interface to run data related tasks.\n",
    "\n",
    "* Reduce an example TolTEC observation.\n",
    "\n",
    "## Keywords\n",
    "Data reduction\n",
    "\n",
    "## Summary\n",
    "In this tutorial, we will create a simulated TolTEC observation and reduce it.\n",
    "\n",
    "To proceed, we need to first setup a tolteca working directory (workdir).\n",
    "\n",
    "A tolteca workdir is a directory prepared by tolteca, which contains special subdirs\n",
    "recognized by the tolteca, as well as a set of runtime config\n",
    "files in YAML format.\n",
    "\n",
    "Tolteca workdir provides the user experience similar to a python virutal environment.\n",
    "User can create many workdirs and each has its own configuration setup for a\n",
    "certain task or project. The configurations are picked up automatically when invoking\n",
    "``tolteca ...`` command in the shell when in a particular tolteca workdir.\n",
    "\n",
    "Under the hood, the in-memory representation of a workdir in tolteca is an instance of\n",
    "`tolteca.utils.RuntimeContext`. All funtionalities related to tolteca workdir are defined\n",
    "as some methods of this class (or some subclass of it). The runtime context is the\n",
    "core object that user would be dealing with in tolteca when working in the IPython\n",
    "prompt or Jupyter notebook.\n",
    "\n",
    "The first part of the tutorial gives a walk through of the concept of runtime context and\n",
    "workdir. We will show how to setup from scratch a workdir for running tolteca.simu module\n",
    "from Cell 1-7. Note that in the tutorial, we create the workdir in a temporary folder, however,\n",
    "one is encouraged to setup the workdir in his or her own user space, to match the actual use\n",
    "case. The tolteca.cli module provides a command ``tolteca setup`` to setup a workdir in the\n",
    "shell:\n",
    "```text\n",
    "    $ cd /path/to/hold/workdir\n",
    "    $ tolteca setup example_tolteca_workdir\n",
    "    $ cd example_tolteca_workdir && ls  # check the content\n",
    "    50_setup.yaml  bin/  cal/  log/\n",
    "```\n",
    "then one can just copy over one of the example configurations for the simulator\n",
    "stored in [``tolteca/data/examples/``](https://github.com/toltec-astro/tolteca/tree/master/tolteca/data/examples) to the workdir. Once the workdir is in place and has all\n",
    "the necessary bits, on can jump right into the second part of the tutorial starting [Cell 8](#cell8).\n",
    "\n",
    "\n",
    "## Let's first create a runtime context object.\n",
    "\n",
    "To make the tutorial independent of any user's own system setup, we just use a temporary\n",
    "directory here:"
   ]
  },
  {
   "cell_type": "code",
   "execution_count": 1,
   "id": "modular-washer",
   "metadata": {},
   "outputs": [
    {
     "name": "stdout",
     "output_type": "stream",
     "text": [
      "Created runtime context RuntimeContext(/private/var/folders/zc/33kgh8vx3z37kpp6xf84bzvm0000gn/T/tmpp2mhtbbg)\n",
      "Config files in the rc: [PosixPath('/private/var/folders/zc/33kgh8vx3z37kpp6xf84bzvm0000gn/T/tmpp2mhtbbg/50_setup.yaml')]\n"
     ]
    }
   ],
   "source": [
    "# import some common packages\n",
    "import numpy as np\n",
    "import matplotlib.pyplot as plt\n",
    "%matplotlib inline\n",
    "import astropy.units as u\n",
    "\n",
    "import tempfile\n",
    "from contextlib import ExitStack  # to manage the tempdir\n",
    "\n",
    "es = ExitStack()\n",
    "workdir = es.enter_context(tempfile.TemporaryDirectory())\n",
    "\n",
    "from tolteca.utils import RuntimeContext\n",
    "\n",
    "rc = RuntimeContext.from_dir(dirpath=workdir, create=True)\n",
    "\n",
    "print(f'Created runtime context {rc}')\n",
    "print(f'Config files in the rc: {rc.config_files}')"
   ]
  },
  {
   "cell_type": "markdown",
   "id": "dirty-worker",
   "metadata": {},
   "source": [
    "To load the config, just access the ``config`` attribute:"
   ]
  },
  {
   "cell_type": "code",
   "execution_count": 2,
   "id": "direct-subdivision",
   "metadata": {
    "tags": [
     "raises-exception"
    ]
   },
   "outputs": [
    {
     "ename": "SchemaMissingKeyError",
     "evalue": "Missing key: 'setup'",
     "output_type": "error",
     "traceback": [
      "\u001b[0;31m---------------------------------------------------------------------------\u001b[0m",
      "\u001b[0;31mSchemaMissingKeyError\u001b[0m                     Traceback (most recent call last)",
      "\u001b[0;32m<ipython-input-2-dde38748b755>\u001b[0m in \u001b[0;36m<module>\u001b[0;34m\u001b[0m\n\u001b[0;32m----> 1\u001b[0;31m \u001b[0mprint\u001b[0m\u001b[0;34m(\u001b[0m\u001b[0;34mf'config: {rc.config}'\u001b[0m\u001b[0;34m)\u001b[0m\u001b[0;34m\u001b[0m\u001b[0;34m\u001b[0m\u001b[0m\n\u001b[0m",
      "\u001b[0;32m/usr/local/Cellar/python@3.8/3.8.8_1/envs/tolteca_tutorials/lib/python3.8/site-packages/cached_property.py\u001b[0m in \u001b[0;36m__get__\u001b[0;34m(self, obj, cls)\u001b[0m\n\u001b[1;32m     34\u001b[0m             \u001b[0;32mreturn\u001b[0m \u001b[0mself\u001b[0m\u001b[0;34m.\u001b[0m\u001b[0m_wrap_in_coroutine\u001b[0m\u001b[0;34m(\u001b[0m\u001b[0mobj\u001b[0m\u001b[0;34m)\u001b[0m\u001b[0;34m\u001b[0m\u001b[0;34m\u001b[0m\u001b[0m\n\u001b[1;32m     35\u001b[0m \u001b[0;34m\u001b[0m\u001b[0m\n\u001b[0;32m---> 36\u001b[0;31m         \u001b[0mvalue\u001b[0m \u001b[0;34m=\u001b[0m \u001b[0mobj\u001b[0m\u001b[0;34m.\u001b[0m\u001b[0m__dict__\u001b[0m\u001b[0;34m[\u001b[0m\u001b[0mself\u001b[0m\u001b[0;34m.\u001b[0m\u001b[0mfunc\u001b[0m\u001b[0;34m.\u001b[0m\u001b[0m__name__\u001b[0m\u001b[0;34m]\u001b[0m \u001b[0;34m=\u001b[0m \u001b[0mself\u001b[0m\u001b[0;34m.\u001b[0m\u001b[0mfunc\u001b[0m\u001b[0;34m(\u001b[0m\u001b[0mobj\u001b[0m\u001b[0;34m)\u001b[0m\u001b[0;34m\u001b[0m\u001b[0;34m\u001b[0m\u001b[0m\n\u001b[0m\u001b[1;32m     37\u001b[0m         \u001b[0;32mreturn\u001b[0m \u001b[0mvalue\u001b[0m\u001b[0;34m\u001b[0m\u001b[0;34m\u001b[0m\u001b[0m\n\u001b[1;32m     38\u001b[0m \u001b[0;34m\u001b[0m\u001b[0m\n",
      "\u001b[0;32m~/Codes/toltec/py/tolteca/tolteca/utils/__init__.py\u001b[0m in \u001b[0;36mconfig\u001b[0;34m(self)\u001b[0m\n\u001b[1;32m    145\u001b[0m                                 f\" No top level dict found.\")\n\u001b[1;32m    146\u001b[0m                     \u001b[0mrupdate\u001b[0m\u001b[0;34m(\u001b[0m\u001b[0mcfg\u001b[0m\u001b[0;34m,\u001b[0m \u001b[0mc\u001b[0m\u001b[0;34m)\u001b[0m\u001b[0;34m\u001b[0m\u001b[0;34m\u001b[0m\u001b[0m\n\u001b[0;32m--> 147\u001b[0;31m         \u001b[0mcfg\u001b[0m \u001b[0;34m=\u001b[0m \u001b[0mself\u001b[0m\u001b[0;34m.\u001b[0m\u001b[0mvalidate_config\u001b[0m\u001b[0;34m(\u001b[0m\u001b[0mcfg\u001b[0m\u001b[0;34m)\u001b[0m\u001b[0;34m\u001b[0m\u001b[0;34m\u001b[0m\u001b[0m\n\u001b[0m\u001b[1;32m    148\u001b[0m         \u001b[0;31m# update runtime info\u001b[0m\u001b[0;34m\u001b[0m\u001b[0;34m\u001b[0m\u001b[0;34m\u001b[0m\u001b[0m\n\u001b[1;32m    149\u001b[0m         \u001b[0mcfg\u001b[0m\u001b[0;34m[\u001b[0m\u001b[0;34m'runtime'\u001b[0m\u001b[0;34m]\u001b[0m \u001b[0;34m=\u001b[0m \u001b[0mself\u001b[0m\u001b[0;34m.\u001b[0m\u001b[0mto_dict\u001b[0m\u001b[0;34m(\u001b[0m\u001b[0;34m)\u001b[0m\u001b[0;34m\u001b[0m\u001b[0;34m\u001b[0m\u001b[0m\n",
      "\u001b[0;32m~/Codes/toltec/py/tolteca/tolteca/utils/__init__.py\u001b[0m in \u001b[0;36mvalidate_config\u001b[0;34m(cls, cfg)\u001b[0m\n\u001b[1;32m    155\u001b[0m         \u001b[0;32mif\u001b[0m \u001b[0mcfg\u001b[0m \u001b[0;32mis\u001b[0m \u001b[0;32mNone\u001b[0m\u001b[0;34m:\u001b[0m\u001b[0;34m\u001b[0m\u001b[0;34m\u001b[0m\u001b[0m\n\u001b[1;32m    156\u001b[0m             \u001b[0;32mreturn\u001b[0m \u001b[0;32mNone\u001b[0m\u001b[0;34m\u001b[0m\u001b[0;34m\u001b[0m\u001b[0m\n\u001b[0;32m--> 157\u001b[0;31m         \u001b[0;32mreturn\u001b[0m \u001b[0mcls\u001b[0m\u001b[0;34m.\u001b[0m\u001b[0mget_config_schema\u001b[0m\u001b[0;34m(\u001b[0m\u001b[0;34m)\u001b[0m\u001b[0;34m.\u001b[0m\u001b[0mvalidate\u001b[0m\u001b[0;34m(\u001b[0m\u001b[0mcfg\u001b[0m\u001b[0;34m)\u001b[0m\u001b[0;34m\u001b[0m\u001b[0;34m\u001b[0m\u001b[0m\n\u001b[0m\u001b[1;32m    158\u001b[0m \u001b[0;34m\u001b[0m\u001b[0m\n\u001b[1;32m    159\u001b[0m     \u001b[0;34m@\u001b[0m\u001b[0mclassmethod\u001b[0m\u001b[0;34m\u001b[0m\u001b[0;34m\u001b[0m\u001b[0m\n",
      "\u001b[0;32m/usr/local/Cellar/python@3.8/3.8.8_1/envs/tolteca_tutorials/lib/python3.8/site-packages/schema.py\u001b[0m in \u001b[0;36mvalidate\u001b[0;34m(self, data)\u001b[0m\n\u001b[1;32m    409\u001b[0m                 \u001b[0mmessage\u001b[0m \u001b[0;34m=\u001b[0m \u001b[0;34m\"Missing key%s: %s\"\u001b[0m \u001b[0;34m%\u001b[0m \u001b[0;34m(\u001b[0m\u001b[0m_plural_s\u001b[0m\u001b[0;34m(\u001b[0m\u001b[0mmissing_keys\u001b[0m\u001b[0;34m)\u001b[0m\u001b[0;34m,\u001b[0m \u001b[0ms_missing_keys\u001b[0m\u001b[0;34m)\u001b[0m\u001b[0;34m\u001b[0m\u001b[0;34m\u001b[0m\u001b[0m\n\u001b[1;32m    410\u001b[0m                 \u001b[0mmessage\u001b[0m \u001b[0;34m=\u001b[0m \u001b[0mself\u001b[0m\u001b[0;34m.\u001b[0m\u001b[0m_prepend_schema_name\u001b[0m\u001b[0;34m(\u001b[0m\u001b[0mmessage\u001b[0m\u001b[0;34m)\u001b[0m\u001b[0;34m\u001b[0m\u001b[0;34m\u001b[0m\u001b[0m\n\u001b[0;32m--> 411\u001b[0;31m                 \u001b[0;32mraise\u001b[0m \u001b[0mSchemaMissingKeyError\u001b[0m\u001b[0;34m(\u001b[0m\u001b[0mmessage\u001b[0m\u001b[0;34m,\u001b[0m \u001b[0me\u001b[0m\u001b[0;34m.\u001b[0m\u001b[0mformat\u001b[0m\u001b[0;34m(\u001b[0m\u001b[0mdata\u001b[0m\u001b[0;34m)\u001b[0m \u001b[0;32mif\u001b[0m \u001b[0me\u001b[0m \u001b[0;32melse\u001b[0m \u001b[0;32mNone\u001b[0m\u001b[0;34m)\u001b[0m\u001b[0;34m\u001b[0m\u001b[0;34m\u001b[0m\u001b[0m\n\u001b[0m\u001b[1;32m    412\u001b[0m             \u001b[0;32mif\u001b[0m \u001b[0;32mnot\u001b[0m \u001b[0mself\u001b[0m\u001b[0;34m.\u001b[0m\u001b[0m_ignore_extra_keys\u001b[0m \u001b[0;32mand\u001b[0m \u001b[0;34m(\u001b[0m\u001b[0mlen\u001b[0m\u001b[0;34m(\u001b[0m\u001b[0mnew\u001b[0m\u001b[0;34m)\u001b[0m \u001b[0;34m!=\u001b[0m \u001b[0mlen\u001b[0m\u001b[0;34m(\u001b[0m\u001b[0mdata\u001b[0m\u001b[0;34m)\u001b[0m\u001b[0;34m)\u001b[0m\u001b[0;34m:\u001b[0m\u001b[0;34m\u001b[0m\u001b[0;34m\u001b[0m\u001b[0m\n\u001b[1;32m    413\u001b[0m                 \u001b[0mwrong_keys\u001b[0m \u001b[0;34m=\u001b[0m \u001b[0mset\u001b[0m\u001b[0;34m(\u001b[0m\u001b[0mdata\u001b[0m\u001b[0;34m.\u001b[0m\u001b[0mkeys\u001b[0m\u001b[0;34m(\u001b[0m\u001b[0;34m)\u001b[0m\u001b[0;34m)\u001b[0m \u001b[0;34m-\u001b[0m \u001b[0mset\u001b[0m\u001b[0;34m(\u001b[0m\u001b[0mnew\u001b[0m\u001b[0;34m.\u001b[0m\u001b[0mkeys\u001b[0m\u001b[0;34m(\u001b[0m\u001b[0;34m)\u001b[0m\u001b[0;34m)\u001b[0m\u001b[0;34m\u001b[0m\u001b[0;34m\u001b[0m\u001b[0m\n",
      "\u001b[0;31mSchemaMissingKeyError\u001b[0m: Missing key: 'setup'"
     ]
    }
   ],
   "source": [
    "print(f'config: {rc.config}')"
   ]
  },
  {
   "cell_type": "markdown",
   "id": "dated-spanish",
   "metadata": {},
   "source": [
    "The reason of the exception is that we have not \"setup\" the runtime context properly. The setup step is to \"initialize\" the workdir, so later tolteca runs can recognize the context. To setup,"
   ]
  },
  {
   "cell_type": "code",
   "execution_count": 3,
   "id": "going-locking",
   "metadata": {},
   "outputs": [
    {
     "name": "stdout",
     "output_type": "stream",
     "text": [
      "\n",
      "runtime:\n",
      "  bindir: /private/var/folders/zc/33kgh8vx3z37kpp6xf84bzvm0000gn/T/tmpp2mhtbbg/bin\n",
      "  caldir: /private/var/folders/zc/33kgh8vx3z37kpp6xf84bzvm0000gn/T/tmpp2mhtbbg/cal\n",
      "  logdir: /private/var/folders/zc/33kgh8vx3z37kpp6xf84bzvm0000gn/T/tmpp2mhtbbg/log\n",
      "  rootpath: /private/var/folders/zc/33kgh8vx3z37kpp6xf84bzvm0000gn/T/tmpp2mhtbbg\n",
      "  setup_file: /private/var/folders/zc/33kgh8vx3z37kpp6xf84bzvm0000gn/T/tmpp2mhtbbg/50_setup.yaml\n",
      "setup:\n",
      "  created_at: 2021-04-27T15:58:00.174\n",
      "  version: 0.1.dev268+ga76764d\n",
      "\n"
     ]
    }
   ],
   "source": [
    "rc.setup()\n",
    "\n",
    "from tollan.utils.fmt import pformat_yaml  # pretty print the config\n",
    "print(pformat_yaml(rc.config))"
   ]
  },
  {
   "cell_type": "markdown",
   "id": "british-boring",
   "metadata": {},
   "source": [
    "The ``setup()`` method also support adding custom records as follows (note the ``overwrite=True``, otherwise the ``setup()`` will not be on an already setup runtime context):"
   ]
  },
  {
   "cell_type": "code",
   "execution_count": 4,
   "id": "departmental-shooting",
   "metadata": {},
   "outputs": [
    {
     "name": "stdout",
     "output_type": "stream",
     "text": [
      "\n",
      "my_info:\n",
      "  foo: bar\n",
      "runtime:\n",
      "  bindir: /private/var/folders/zc/33kgh8vx3z37kpp6xf84bzvm0000gn/T/tmpp2mhtbbg/bin\n",
      "  caldir: /private/var/folders/zc/33kgh8vx3z37kpp6xf84bzvm0000gn/T/tmpp2mhtbbg/cal\n",
      "  logdir: /private/var/folders/zc/33kgh8vx3z37kpp6xf84bzvm0000gn/T/tmpp2mhtbbg/log\n",
      "  rootpath: /private/var/folders/zc/33kgh8vx3z37kpp6xf84bzvm0000gn/T/tmpp2mhtbbg\n",
      "  setup_file: /private/var/folders/zc/33kgh8vx3z37kpp6xf84bzvm0000gn/T/tmpp2mhtbbg/50_setup.yaml\n",
      "setup:\n",
      "  baz: boo\n",
      "  created_at: 2021-04-27T15:58:00.369\n",
      "  version: 0.1.dev268+ga76764d\n",
      "\n"
     ]
    }
   ],
   "source": [
    "rc.setup(config={\n",
    "    'my_info': {'foo': 'bar'},\n",
    "    'setup': {'baz': 'boo'}\n",
    "    }, overwrite=True)\n",
    "print(pformat_yaml(rc.config))"
   ]
  },
  {
   "cell_type": "markdown",
   "id": "legal-broadcasting",
   "metadata": {},
   "source": [
    "Now we have the workdir setup, we can go back and pretend that we already have a valid tolteca workdir, in which case we can just load the runtime context directly without needing to create and setup again (note how our custom records get loaded as well):"
   ]
  },
  {
   "cell_type": "code",
   "execution_count": 5,
   "id": "stuck-fetish",
   "metadata": {},
   "outputs": [
    {
     "name": "stdout",
     "output_type": "stream",
     "text": [
      "Created runtime context RuntimeContext(/private/var/folders/zc/33kgh8vx3z37kpp6xf84bzvm0000gn/T/tmpp2mhtbbg)\n",
      "Config files in the rc: [PosixPath('/private/var/folders/zc/33kgh8vx3z37kpp6xf84bzvm0000gn/T/tmpp2mhtbbg/50_setup.yaml')]\n",
      "Config:\n",
      "\n",
      "my_info:\n",
      "  foo: bar\n",
      "runtime:\n",
      "  bindir: /private/var/folders/zc/33kgh8vx3z37kpp6xf84bzvm0000gn/T/tmpp2mhtbbg/bin\n",
      "  caldir: /private/var/folders/zc/33kgh8vx3z37kpp6xf84bzvm0000gn/T/tmpp2mhtbbg/cal\n",
      "  logdir: /private/var/folders/zc/33kgh8vx3z37kpp6xf84bzvm0000gn/T/tmpp2mhtbbg/log\n",
      "  rootpath: /private/var/folders/zc/33kgh8vx3z37kpp6xf84bzvm0000gn/T/tmpp2mhtbbg\n",
      "  setup_file: /private/var/folders/zc/33kgh8vx3z37kpp6xf84bzvm0000gn/T/tmpp2mhtbbg/50_setup.yaml\n",
      "setup:\n",
      "  baz: boo\n",
      "  created_at: 2021-04-27T15:58:00.369\n",
      "  version: 0.1.dev268+ga76764d\n",
      "\n"
     ]
    }
   ],
   "source": [
    "try:\n",
    "    del rc  # just to make sure we don't get confused with the old rc object.\n",
    "except Exception:\n",
    "    pass\n",
    "rc = RuntimeContext(rootpath=workdir)\n",
    "print(f'Created runtime context {rc}')\n",
    "print(f'Config files in the rc: {rc.config_files}')\n",
    "print(f'Config:\\n{pformat_yaml(rc.config)}')"
   ]
  },
  {
   "cell_type": "markdown",
   "id": "british-colorado",
   "metadata": {},
   "source": [
    "## Create simulated data\n",
    "\n",
    "Tolteca.simu provides a set of tools to create simulated data. To run the simulator, we will need our workdir that we just setup, but with more information.\n",
    "\n",
    "The tolteca.simu comes with its own subclass of `RuntimeContext`, namely, `SimulatorRuntime`. The simulator runtime manages simulator related configurations loaded from the workdir. To create the simulator runtime, we do the follows:"
   ]
  },
  {
   "cell_type": "code",
   "execution_count": 6,
   "id": "traditional-elder",
   "metadata": {
    "tags": [
     "raises-exception"
    ]
   },
   "outputs": [
    {
     "name": "stdout",
     "output_type": "stream",
     "text": [
      "Created runtime context SimulatorRuntime(/private/var/folders/zc/33kgh8vx3z37kpp6xf84bzvm0000gn/T/tmpp2mhtbbg)\n",
      "Config files in the rc: [PosixPath('/private/var/folders/zc/33kgh8vx3z37kpp6xf84bzvm0000gn/T/tmpp2mhtbbg/50_setup.yaml')]\n"
     ]
    },
    {
     "ename": "SchemaMissingKeyError",
     "evalue": "Missing key: 'simu'",
     "output_type": "error",
     "traceback": [
      "\u001b[0;31m---------------------------------------------------------------------------\u001b[0m",
      "\u001b[0;31mSchemaMissingKeyError\u001b[0m                     Traceback (most recent call last)",
      "\u001b[0;32m<ipython-input-6-add96175c9b1>\u001b[0m in \u001b[0;36m<module>\u001b[0;34m\u001b[0m\n\u001b[1;32m      3\u001b[0m \u001b[0mprint\u001b[0m\u001b[0;34m(\u001b[0m\u001b[0;34mf'Created runtime context {rc}'\u001b[0m\u001b[0;34m)\u001b[0m\u001b[0;34m\u001b[0m\u001b[0;34m\u001b[0m\u001b[0m\n\u001b[1;32m      4\u001b[0m \u001b[0mprint\u001b[0m\u001b[0;34m(\u001b[0m\u001b[0;34mf'Config files in the rc: {rc.config_files}'\u001b[0m\u001b[0;34m)\u001b[0m\u001b[0;34m\u001b[0m\u001b[0;34m\u001b[0m\u001b[0m\n\u001b[0;32m----> 5\u001b[0;31m \u001b[0mprint\u001b[0m\u001b[0;34m(\u001b[0m\u001b[0;34mf'Config:\\n{pformat_yaml(rc.config)}'\u001b[0m\u001b[0;34m)\u001b[0m\u001b[0;34m\u001b[0m\u001b[0;34m\u001b[0m\u001b[0m\n\u001b[0m",
      "\u001b[0;32m/usr/local/Cellar/python@3.8/3.8.8_1/envs/tolteca_tutorials/lib/python3.8/site-packages/cached_property.py\u001b[0m in \u001b[0;36m__get__\u001b[0;34m(self, obj, cls)\u001b[0m\n\u001b[1;32m     34\u001b[0m             \u001b[0;32mreturn\u001b[0m \u001b[0mself\u001b[0m\u001b[0;34m.\u001b[0m\u001b[0m_wrap_in_coroutine\u001b[0m\u001b[0;34m(\u001b[0m\u001b[0mobj\u001b[0m\u001b[0;34m)\u001b[0m\u001b[0;34m\u001b[0m\u001b[0;34m\u001b[0m\u001b[0m\n\u001b[1;32m     35\u001b[0m \u001b[0;34m\u001b[0m\u001b[0m\n\u001b[0;32m---> 36\u001b[0;31m         \u001b[0mvalue\u001b[0m \u001b[0;34m=\u001b[0m \u001b[0mobj\u001b[0m\u001b[0;34m.\u001b[0m\u001b[0m__dict__\u001b[0m\u001b[0;34m[\u001b[0m\u001b[0mself\u001b[0m\u001b[0;34m.\u001b[0m\u001b[0mfunc\u001b[0m\u001b[0;34m.\u001b[0m\u001b[0m__name__\u001b[0m\u001b[0;34m]\u001b[0m \u001b[0;34m=\u001b[0m \u001b[0mself\u001b[0m\u001b[0;34m.\u001b[0m\u001b[0mfunc\u001b[0m\u001b[0;34m(\u001b[0m\u001b[0mobj\u001b[0m\u001b[0;34m)\u001b[0m\u001b[0;34m\u001b[0m\u001b[0;34m\u001b[0m\u001b[0m\n\u001b[0m\u001b[1;32m     37\u001b[0m         \u001b[0;32mreturn\u001b[0m \u001b[0mvalue\u001b[0m\u001b[0;34m\u001b[0m\u001b[0;34m\u001b[0m\u001b[0m\n\u001b[1;32m     38\u001b[0m \u001b[0;34m\u001b[0m\u001b[0m\n",
      "\u001b[0;32m~/Codes/toltec/py/tolteca/tolteca/utils/__init__.py\u001b[0m in \u001b[0;36mconfig\u001b[0;34m(self)\u001b[0m\n\u001b[1;32m    145\u001b[0m                                 f\" No top level dict found.\")\n\u001b[1;32m    146\u001b[0m                     \u001b[0mrupdate\u001b[0m\u001b[0;34m(\u001b[0m\u001b[0mcfg\u001b[0m\u001b[0;34m,\u001b[0m \u001b[0mc\u001b[0m\u001b[0;34m)\u001b[0m\u001b[0;34m\u001b[0m\u001b[0;34m\u001b[0m\u001b[0m\n\u001b[0;32m--> 147\u001b[0;31m         \u001b[0mcfg\u001b[0m \u001b[0;34m=\u001b[0m \u001b[0mself\u001b[0m\u001b[0;34m.\u001b[0m\u001b[0mvalidate_config\u001b[0m\u001b[0;34m(\u001b[0m\u001b[0mcfg\u001b[0m\u001b[0;34m)\u001b[0m\u001b[0;34m\u001b[0m\u001b[0;34m\u001b[0m\u001b[0m\n\u001b[0m\u001b[1;32m    148\u001b[0m         \u001b[0;31m# update runtime info\u001b[0m\u001b[0;34m\u001b[0m\u001b[0;34m\u001b[0m\u001b[0;34m\u001b[0m\u001b[0m\n\u001b[1;32m    149\u001b[0m         \u001b[0mcfg\u001b[0m\u001b[0;34m[\u001b[0m\u001b[0;34m'runtime'\u001b[0m\u001b[0;34m]\u001b[0m \u001b[0;34m=\u001b[0m \u001b[0mself\u001b[0m\u001b[0;34m.\u001b[0m\u001b[0mto_dict\u001b[0m\u001b[0;34m(\u001b[0m\u001b[0;34m)\u001b[0m\u001b[0;34m\u001b[0m\u001b[0;34m\u001b[0m\u001b[0m\n",
      "\u001b[0;32m~/Codes/toltec/py/tolteca/tolteca/utils/__init__.py\u001b[0m in \u001b[0;36mvalidate_config\u001b[0;34m(cls, cfg)\u001b[0m\n\u001b[1;32m    155\u001b[0m         \u001b[0;32mif\u001b[0m \u001b[0mcfg\u001b[0m \u001b[0;32mis\u001b[0m \u001b[0;32mNone\u001b[0m\u001b[0;34m:\u001b[0m\u001b[0;34m\u001b[0m\u001b[0;34m\u001b[0m\u001b[0m\n\u001b[1;32m    156\u001b[0m             \u001b[0;32mreturn\u001b[0m \u001b[0;32mNone\u001b[0m\u001b[0;34m\u001b[0m\u001b[0;34m\u001b[0m\u001b[0m\n\u001b[0;32m--> 157\u001b[0;31m         \u001b[0;32mreturn\u001b[0m \u001b[0mcls\u001b[0m\u001b[0;34m.\u001b[0m\u001b[0mget_config_schema\u001b[0m\u001b[0;34m(\u001b[0m\u001b[0;34m)\u001b[0m\u001b[0;34m.\u001b[0m\u001b[0mvalidate\u001b[0m\u001b[0;34m(\u001b[0m\u001b[0mcfg\u001b[0m\u001b[0;34m)\u001b[0m\u001b[0;34m\u001b[0m\u001b[0;34m\u001b[0m\u001b[0m\n\u001b[0m\u001b[1;32m    158\u001b[0m \u001b[0;34m\u001b[0m\u001b[0m\n\u001b[1;32m    159\u001b[0m     \u001b[0;34m@\u001b[0m\u001b[0mclassmethod\u001b[0m\u001b[0;34m\u001b[0m\u001b[0;34m\u001b[0m\u001b[0m\n",
      "\u001b[0;32m/usr/local/Cellar/python@3.8/3.8.8_1/envs/tolteca_tutorials/lib/python3.8/site-packages/schema.py\u001b[0m in \u001b[0;36mvalidate\u001b[0;34m(self, data)\u001b[0m\n\u001b[1;32m    409\u001b[0m                 \u001b[0mmessage\u001b[0m \u001b[0;34m=\u001b[0m \u001b[0;34m\"Missing key%s: %s\"\u001b[0m \u001b[0;34m%\u001b[0m \u001b[0;34m(\u001b[0m\u001b[0m_plural_s\u001b[0m\u001b[0;34m(\u001b[0m\u001b[0mmissing_keys\u001b[0m\u001b[0;34m)\u001b[0m\u001b[0;34m,\u001b[0m \u001b[0ms_missing_keys\u001b[0m\u001b[0;34m)\u001b[0m\u001b[0;34m\u001b[0m\u001b[0;34m\u001b[0m\u001b[0m\n\u001b[1;32m    410\u001b[0m                 \u001b[0mmessage\u001b[0m \u001b[0;34m=\u001b[0m \u001b[0mself\u001b[0m\u001b[0;34m.\u001b[0m\u001b[0m_prepend_schema_name\u001b[0m\u001b[0;34m(\u001b[0m\u001b[0mmessage\u001b[0m\u001b[0;34m)\u001b[0m\u001b[0;34m\u001b[0m\u001b[0;34m\u001b[0m\u001b[0m\n\u001b[0;32m--> 411\u001b[0;31m                 \u001b[0;32mraise\u001b[0m \u001b[0mSchemaMissingKeyError\u001b[0m\u001b[0;34m(\u001b[0m\u001b[0mmessage\u001b[0m\u001b[0;34m,\u001b[0m \u001b[0me\u001b[0m\u001b[0;34m.\u001b[0m\u001b[0mformat\u001b[0m\u001b[0;34m(\u001b[0m\u001b[0mdata\u001b[0m\u001b[0;34m)\u001b[0m \u001b[0;32mif\u001b[0m \u001b[0me\u001b[0m \u001b[0;32melse\u001b[0m \u001b[0;32mNone\u001b[0m\u001b[0;34m)\u001b[0m\u001b[0;34m\u001b[0m\u001b[0;34m\u001b[0m\u001b[0m\n\u001b[0m\u001b[1;32m    412\u001b[0m             \u001b[0;32mif\u001b[0m \u001b[0;32mnot\u001b[0m \u001b[0mself\u001b[0m\u001b[0;34m.\u001b[0m\u001b[0m_ignore_extra_keys\u001b[0m \u001b[0;32mand\u001b[0m \u001b[0;34m(\u001b[0m\u001b[0mlen\u001b[0m\u001b[0;34m(\u001b[0m\u001b[0mnew\u001b[0m\u001b[0;34m)\u001b[0m \u001b[0;34m!=\u001b[0m \u001b[0mlen\u001b[0m\u001b[0;34m(\u001b[0m\u001b[0mdata\u001b[0m\u001b[0;34m)\u001b[0m\u001b[0;34m)\u001b[0m\u001b[0;34m:\u001b[0m\u001b[0;34m\u001b[0m\u001b[0;34m\u001b[0m\u001b[0m\n\u001b[1;32m    413\u001b[0m                 \u001b[0mwrong_keys\u001b[0m \u001b[0;34m=\u001b[0m \u001b[0mset\u001b[0m\u001b[0;34m(\u001b[0m\u001b[0mdata\u001b[0m\u001b[0;34m.\u001b[0m\u001b[0mkeys\u001b[0m\u001b[0;34m(\u001b[0m\u001b[0;34m)\u001b[0m\u001b[0;34m)\u001b[0m \u001b[0;34m-\u001b[0m \u001b[0mset\u001b[0m\u001b[0;34m(\u001b[0m\u001b[0mnew\u001b[0m\u001b[0;34m.\u001b[0m\u001b[0mkeys\u001b[0m\u001b[0;34m(\u001b[0m\u001b[0;34m)\u001b[0m\u001b[0;34m)\u001b[0m\u001b[0;34m\u001b[0m\u001b[0;34m\u001b[0m\u001b[0m\n",
      "\u001b[0;31mSchemaMissingKeyError\u001b[0m: Missing key: 'simu'"
     ]
    }
   ],
   "source": [
    "from tolteca.simu import SimulatorRuntime\n",
    "rc = SimulatorRuntime(rootpath=workdir)\n",
    "print(f'Created runtime context {rc}')\n",
    "print(f'Config files in the rc: {rc.config_files}')\n",
    "print(f'Config:\\n{pformat_yaml(rc.config)}')"
   ]
  },
  {
   "cell_type": "markdown",
   "id": "organized-leisure",
   "metadata": {},
   "source": [
    "The reason of the exception is that we have not \"setup\" the simulator properly. The simulator expects a branch of config entries under the key ``simu``, stored in one of the YAML files found in the workdir.\n",
    "\n",
    "The tolteca.simu has a set of \"built-in\" configurations that one can use readily, one of which is 'toltec_point_source'. Let's dump this config to the workdir with file name \"60_simu.yaml\". Note the format ``\\d+_.+.yaml``, this is the convention of the YAML config files to be recongnized by the tolteca runtime context. The files with lower number are overriden by those with higher number.\n",
    "\n",
    "Note that in the example config, it refers to a filepath ``toltec_sources.asc`` in the ``sources`` list. This is an ASCII table that defines the point sources to be injected on the sky. We need also create this table."
   ]
  },
  {
   "cell_type": "code",
   "execution_count": 7,
   "id": "exact-romantic",
   "metadata": {},
   "outputs": [
    {
     "name": "stdout",
     "output_type": "stream",
     "text": [
      "\n",
      "simu:\n",
      "  instrument:\n",
      "    calobj: cal/calobj_default/index.yaml\n",
      "    name: toltec\n",
      "  jobkey: toltec_point_source\n",
      "  mapping:\n",
      "    length: '1. arcmin'\n",
      "    n_scans: 40\n",
      "    ref_frame: icrs\n",
      "    rot: '0. deg'\n",
      "    space: '1.5 arcsec'\n",
      "    speed: '1. arcmin/s'\n",
      "    t0: 2020-04-12 00:00:00\n",
      "    t_turnover: '0.1 s'\n",
      "    target: '92d -7d'\n",
      "    type: tolteca.simu:SkyRasterScanModel\n",
      "  obs_params:\n",
      "    f_smp_data: '122. Hz'\n",
      "    f_smp_mapping: '12 Hz'\n",
      "    t_exp: '1 ct'\n",
      "  sources:\n",
      "    - colname_map:\n",
      "        a1100: flux_a1100\n",
      "        a1400: flux_a1400\n",
      "        a2000: flux_a2000\n",
      "        dec: dec\n",
      "        name: name\n",
      "        ra: ra\n",
      "      filepath: toltec_sources.asc\n",
      "      grouping: array_name\n",
      "      type: point_source_catalog\n",
      "\n"
     ]
    }
   ],
   "source": [
    "from tolteca.simu import example_configs as cfgs\n",
    "cfg = cfgs['toltec_point_source']\n",
    "print(pformat_yaml(cfg))\n",
    "\n",
    "import yaml\n",
    "with open(rc.rootpath.joinpath('60_simu.yaml'), 'w') as fo:\n",
    "    yaml.dump(cfg, fo)\n",
    "\n",
    "# create the point source catalog\n",
    "# we just add two sources here. The column names\n",
    "# used matches with those in the source definition `colname_map`, whose\n",
    "# keys (a1100, etc) matches with the `grouping: array_name` setting.\n",
    "from astropy.table import Table\n",
    "catalog = Table(rows=[\n",
    "    ['s0', 92., -7., 3., 2., 1.,],\n",
    "    ['s1', 92., -7.01, 1., 1., 1.,],\n",
    "    ],\n",
    "    names=['name', 'ra', 'dec', 'flux_a1100', 'flux_a1400', 'flux_a2000'],\n",
    "    units=[None, u.deg, u.deg, u.mJy, u.mJy, u.mJy]\n",
    "    )\n",
    "catalog.write(rc.rootpath.joinpath('toltec_sources.asc'), format='ascii.ecsv')"
   ]
  },
  {
   "cell_type": "markdown",
   "id": "patient-contract",
   "metadata": {},
   "source": [
    "Now we re-visit the ``config`` attribute of the simulator runtime. We should see the new 60_simu.yaml file is suceessfully picked up and no more complains about missing configuration keys.\n",
    "\n",
    "<a id='cell8'></a>For those returning readers who already have a workdir setup with correct contents, you can start from this cell."
   ]
  },
  {
   "cell_type": "code",
   "execution_count": 8,
   "id": "worthy-affairs",
   "metadata": {},
   "outputs": [
    {
     "name": "stdout",
     "output_type": "stream",
     "text": [
      "Config:\n",
      "\n",
      "my_info:\n",
      "  foo: bar\n",
      "runtime:\n",
      "  bindir: /private/var/folders/zc/33kgh8vx3z37kpp6xf84bzvm0000gn/T/tmpp2mhtbbg/bin\n",
      "  caldir: /private/var/folders/zc/33kgh8vx3z37kpp6xf84bzvm0000gn/T/tmpp2mhtbbg/cal\n",
      "  logdir: /private/var/folders/zc/33kgh8vx3z37kpp6xf84bzvm0000gn/T/tmpp2mhtbbg/log\n",
      "  rootpath: /private/var/folders/zc/33kgh8vx3z37kpp6xf84bzvm0000gn/T/tmpp2mhtbbg\n",
      "  setup_file: /private/var/folders/zc/33kgh8vx3z37kpp6xf84bzvm0000gn/T/tmpp2mhtbbg/50_setup.yaml\n",
      "setup:\n",
      "  baz: boo\n",
      "  created_at: 2021-04-27T15:58:00.369\n",
      "  version: 0.1.dev268+ga76764d\n",
      "simu:\n",
      "  instrument:\n",
      "    calobj: cal/calobj_default/index.yaml\n",
      "    name: toltec\n",
      "  jobkey: toltec_point_source\n",
      "  mapping:\n",
      "    length: '1. arcmin'\n",
      "    n_scans: 40\n",
      "    ref_frame: icrs\n",
      "    rot: '0. deg'\n",
      "    space: '1.5 arcsec'\n",
      "    speed: '1. arcmin/s'\n",
      "    t0: 2020-04-12 00:00:00\n",
      "    t_turnover: '0.1 s'\n",
      "    target: '92d -7d'\n",
      "    type: tolteca.simu:SkyRasterScanModel\n",
      "  mapping_only: false\n",
      "  obs_params:\n",
      "    f_smp_data: 122.0 Hz\n",
      "    f_smp_mapping: 12.0 Hz\n",
      "    t_exp: 1.0 ct\n",
      "  perf_params: {}\n",
      "  plot: false\n",
      "  save: false\n",
      "  sources:\n",
      "    - colname_map:\n",
      "        a1100: flux_a1100\n",
      "        a1400: flux_a1400\n",
      "        a2000: flux_a2000\n",
      "        dec: dec\n",
      "        name: name\n",
      "        ra: ra\n",
      "      filepath: toltec_sources.asc\n",
      "      grouping: array_name\n",
      "      type: point_source_catalog\n",
      "\n"
     ]
    }
   ],
   "source": [
    "# If you already have a workdir at some path so you can ignore Cells 1-7 and jump in from here: \n",
    "# from tolteca.simu import SimulatorRuntime\n",
    "# workdir = '/the/path/to/a/workdir/with/simu/configs'\n",
    "# rc = SimulatorRuntime(rootpath=workdir)\n",
    "print(f'Config:\\n{pformat_yaml(rc.config)}')"
   ]
  },
  {
   "cell_type": "markdown",
   "id": "driven-application",
   "metadata": {},
   "source": [
    "The simulator configuration defines the on-the-fly mapping pattern, the input sources, and the instrument to simulate. Under the hood, each of these aspects is managed by its own class which implements the related functionalities.\n",
    "\n",
    "Let's take a look at the mapping model first. We can make a plot of the mapping pattern:"
   ]
  },
  {
   "cell_type": "code",
   "execution_count": 9,
   "id": "desperate-absence",
   "metadata": {},
   "outputs": [
    {
     "name": "stdout",
     "output_type": "stream",
     "text": [
      "mapping model:\n",
      "Model: SkyRasterScanModel\n",
      "Inputs: ('t',)\n",
      "Outputs: ('lon', 'lat')\n",
      "Model set size: 1\n",
      "Parameters:\n",
      "    length space  n_scans rot   speed    t_turnover\n",
      "    arcmin arcsec         deg arcmin / s     s     \n",
      "    ------ ------ ------- --- ---------- ----------\n",
      "       1.0    1.5    40.0 0.0        1.0        0.1\n",
      "time to finish mapping: 43.9 s\n",
      "mapping target: <SkyCoord (ICRS): (ra, dec) in deg\n",
      "    (92., -7.)>\n"
     ]
    },
    {
     "name": "stderr",
     "output_type": "stream",
     "text": [
      "WARNING: InputWarning: Coordinate string is being interpreted as an ICRS coordinate. [astroquery.utils.commons]\n"
     ]
    },
    {
     "data": {
      "image/png": "[encoded data removed]",
      "text/plain": [
       "<Figure size 720x360 with 2 Axes>"
      ]
     },
     "metadata": {
      "needs_background": "light"
     },
     "output_type": "display_data"
    }
   ],
   "source": [
    "\n",
    "mapping = rc.get_mapping_model()\n",
    "print(f'mapping model:\\n{mapping}')\n",
    "# the time to finish the mapping can be obtained from the mapping model\n",
    "mapping_time = mapping.get_total_time()\n",
    "print(f'time to finish mapping: {mapping_time}')\n",
    "# to plot the pattern, let's genrate some sampling points\n",
    "# For plotting, we just use a linspace grid here, but in the actual simulator run\n",
    "# it makes use of the obs params \"f_smp_mapping\" as the sampling frequency\n",
    "t = np.linspace(0, mapping_time, 1000)\n",
    "\n",
    "mapping_offsets = mapping(t)  # this is the offsets from bore sight\n",
    "\n",
    "# to evaluate mapping pattern around a coordinates, use evaluate_at\n",
    "# The frame of input coordinates will be assumed for the offsets\n",
    "# here the mapping target from the config is given in equitorial\n",
    "# so the mapping will be along equitorial coordinate frame\n",
    "target_coord = mapping.target\n",
    "print(f'mapping target: {mapping.target}')\n",
    "\n",
    "mapping_coords = mapping.evaluate_at(target_coord, t)\n",
    "\n",
    "fig = plt.figure(figsize=(10, 5))\n",
    "fig.subplots_adjust(wspace=0.7)\n",
    "# the bore sight offsets\n",
    "ax = fig.add_subplot(1, 2, 1)\n",
    "ax.set_aspect('equal')\n",
    "ax.plot(\n",
    "    mapping_offsets[0].to_value(u.arcmin),\n",
    "    mapping_offsets[1].to_value(u.arcmin),\n",
    "    marker='.',\n",
    "    )\n",
    "ax.plot(0, 0, marker='o', color='red')  # the target\n",
    "ax.set_xlabel('lon. offset (arcmin)')\n",
    "ax.set_ylabel('lat. offset (arcmin)')\n",
    "\n",
    "# the sky coords, which we need an fiducial wcs object\n",
    "# to plot in the ref frame of target coords, i.e., ICRS\n",
    "from astropy.wcs.utils import celestial_frame_to_wcs\n",
    "w = celestial_frame_to_wcs(target_coord.frame)\n",
    "# set the crval to target\n",
    "w.wcs.crval = np.array([target_coord.ra.degree, target_coord.dec.degree])\n",
    "ax = fig.add_subplot(1, 2, 2, projection=w)  # a WCSAxes plot, see https://docs.astropy.org/en/stable/visualization/wcsaxes/index.html\n",
    "ax.set_aspect('equal')\n",
    "ax.plot(\n",
    "    mapping_coords.ra.degree,\n",
    "    mapping_coords.dec.degree,\n",
    "    transform=ax.get_transform('icrs'),\n",
    "    marker='.',\n",
    "    )\n",
    "ax.plot(\n",
    "    target_coord.ra.degree, target_coord.dec.degree,\n",
    "    transform=ax.get_transform('icrs'),\n",
    "    marker='o', color='red',\n",
    "    )\n",
    "ax.coords[0].set_ticklabel(exclude_overlapping=True)  # reduce the cluttering of tick labels."
   ]
  },
  {
   "cell_type": "markdown",
   "id": "according-screen",
   "metadata": {},
   "source": [
    "For the input sources, the ``sources`` list specified in the simulator configs is parsed and a set of `tolteca.simu.base.SourceModel` subclass instances are created according to the ``type`` key. In this case, we only have one model with type ``point_source_catalog``. It is specified in format of an ASCII table, which we just created:"
   ]
  },
  {
   "cell_type": "code",
   "execution_count": 10,
   "id": "indie-jurisdiction",
   "metadata": {},
   "outputs": [
    {
     "name": "stdout",
     "output_type": "stream",
     "text": [
      "sources: [<SourceCatalogModel(name='/private/var/folders/zc/33kgh8vx3z37kpp6xf84bzvm0000gn/T/tmpp2mhtbbg/toltec_sources.asc')>]\n",
      "model class is:\n",
      "<class 'tolteca.simu.base.SourceCatalogModel'>\n",
      "Name: SourceCatalogModel\n",
      "N_inputs: 2\n",
      "N_outputs: 1\n",
      "model data:\n",
      "a1100 a1400 a2000  dec  name  ra \n",
      " mJy   mJy   mJy   deg       deg \n",
      "----- ----- ----- ----- ---- ----\n",
      "  3.0   2.0   1.0  -7.0   s0 92.0\n",
      "  1.0   1.0   1.0 -7.01   s1 92.0\n",
      "model source positions: <SkyCoord (ICRS): (ra, dec) in deg\n",
      "    [(92., -7.  ), (92., -7.01)]>\n"
     ]
    },
    {
     "data": {
      "image/png": "[encoded data removed]",
      "text/plain": [
       "<Figure size 720x360 with 3 Axes>"
      ]
     },
     "metadata": {
      "needs_background": "light"
     },
     "output_type": "display_data"
    }
   ],
   "source": [
    "sources = rc.get_source_model()\n",
    "print(f'sources: {sources}')\n",
    "m_point_source = sources[0]  # take out the point source model and let's take a look\n",
    "print(f'model class is:\\n{type(m_point_source)}')\n",
    "print(f'model data:\\n{m_point_source.data}')\n",
    "print(f'model source positions: {m_point_source.pos}')\n",
    "# we can make a synetic image and plot by creating a SourceImageModel from the SourceCatalogModel\n",
    "# to do this we need some beammodels and a pixelscale.\n",
    "# we can use the toltec beammodels here, and assume a 1\"/pix scale\n",
    "from tolteca.simu.toltec import BeamModel\n",
    "m_img = m_point_source.make_image_model(beam_models=BeamModel().models, pixscale=1 << u.arcsec / u.pix)\n",
    "# the m_img is a SourceImageModel class which contains image data as a dict of ImageHDU.\n",
    "# we create a set of WCSAxes to plot them\n",
    "\n",
    "from astropy.wcs import WCS\n",
    "\n",
    "fig = plt.figure(figsize=(10, 5))\n",
    "fig.subplots_adjust(wspace=0.9)\n",
    "n_hdus = len(m_img.data)\n",
    "\n",
    "for i, (k, hdu) in enumerate(m_img.data.items()):\n",
    "    w = WCS(hdu.header)\n",
    "    ax = fig.add_subplot(1, n_hdus, i + 1, projection=w)\n",
    "    ax.set_aspect('equal')\n",
    "    ax.set_title(f'{k}')\n",
    "    ax.imshow(hdu.data)\n",
    "    # label the sources\n",
    "    for p, n in zip(m_point_source.pos, m_point_source.data['name']):\n",
    "        ax.text(p.ra.degree, p.dec.degree, n, transform=ax.get_transform('icrs'), color='red')"
   ]
  },
  {
   "cell_type": "markdown",
   "id": "median-merit",
   "metadata": {},
   "source": [
    "The ``instrument`` ties the mapping model and the source models together, and drives generating of simulated data. `tolteca.simu.base.SimulatorBase` defines the abstract interface for implementing the simulator engine. A subclass needs to be implemented to make simulated observations for an instrument. For the TolTEC simulator, this is `tolteca.simu.toltec.ToltecSimulator` and `tolteca.simu.toltec.ToltecPolarimetrySimulator`\n",
    "\n",
    "In the config, the simulator engine is specified by the ``instrument`` key. In our example config, this is set to `toltec`:"
   ]
  },
  {
   "cell_type": "code",
   "execution_count": 15,
   "id": "clean-apparel",
   "metadata": {},
   "outputs": [
    {
     "name": "stderr",
     "output_type": "stream",
     "text": [
      "invalid calibration object index file path, fallback to default\n"
     ]
    },
    {
     "name": "stdout",
     "output_type": "stream",
     "text": [
      "<tolteca.simu.toltec.ToltecObsSimulator object at 0x13aa398b0>\n"
     ]
    },
    {
     "data": {
      "text/html": [
       "<i>QTable length=7718</i>\n",
       "<table id=\"table5296541312\" class=\"table-striped table-bordered table-condensed\">\n",
       "<thead><tr><th>uid</th><th>nw</th><th>pg</th><th>loc</th><th>ori</th><th>fg</th><th>design_group</th><th>i</th><th>j</th><th>k</th><th>x</th><th>y</th><th>f</th><th>flag</th><th>flag_summary</th><th>array_name</th><th>background</th><th>bkg_temp</th><th>responsivity</th><th>passband</th><th>wl_center</th><th>fp</th><th>fr</th><th>Qr</th><th>g0</th><th>g1</th><th>g</th><th>phi_g</th><th>f0</th><th>k0</th><th>k1</th><th>m0</th><th>m1</th><th>flxscale</th><th>x_t</th><th>y_t</th></tr></thead>\n",
       "<thead><tr><th></th><th></th><th></th><th></th><th></th><th></th><th></th><th></th><th></th><th></th><th>um</th><th>um</th><th>GHz</th><th></th><th></th><th></th><th>pW</th><th>K</th><th>1 / pW</th><th>GHz</th><th>cm</th><th>GHz</th><th>GHz</th><th></th><th></th><th></th><th></th><th></th><th>GHz</th><th>1 / Hz</th><th>1 / Hz</th><th></th><th></th><th></th><th>deg</th><th>deg</th></tr></thead>\n",
       "<thead><tr><th>str10</th><th>int64</th><th>int64</th><th>int64</th><th>int64</th><th>int64</th><th>str3</th><th>int64</th><th>int64</th><th>int64</th><th>float64</th><th>float64</th><th>float64</th><th>int64</th><th>str7</th><th>str5</th><th>float64</th><th>float64</th><th>float64</th><th>float64</th><th>float64</th><th>float64</th><th>float64</th><th>float64</th><th>int64</th><th>int64</th><th>int64</th><th>int64</th><th>float64</th><th>float64</th><th>float64</th><th>int64</th><th>int64</th><th>float64</th><th>float64</th><th>float64</th></tr></thead>\n",
       "<tr><td>00_0_169_0</td><td>0</td><td>0</td><td>169</td><td>0</td><td>0</td><td>PXA</td><td>0</td><td>31</td><td>1</td><td>-22000.0</td><td>-61920.816</td><td>0.51677</td><td>1</td><td>dark</td><td>a1100</td><td>10.01</td><td>9.64</td><td>5.794e-05</td><td>65.0</td><td>0.10999999999999999</td><td>0.51677</td><td>0.51677</td><td>10000.0</td><td>200</td><td>0</td><td>200</td><td>0</td><td>0.51677</td><td>0.0</td><td>0.0</td><td>0</td><td>0</td><td>17259.233690024164</td><td>-0.03249180330681757</td><td>-0.01154409322948823</td></tr>\n",
       "<tr><td>00_0_169_1</td><td>0</td><td>0</td><td>169</td><td>1</td><td>2</td><td>PXA</td><td>0</td><td>31</td><td>343</td><td>-22000.0</td><td>-61920.816</td><td>0.736856</td><td>1</td><td>dark</td><td>a1100</td><td>10.01</td><td>9.64</td><td>5.794e-05</td><td>65.0</td><td>0.10999999999999999</td><td>0.736856</td><td>0.736856</td><td>10000.0</td><td>200</td><td>0</td><td>200</td><td>0</td><td>0.736856</td><td>0.0</td><td>0.0</td><td>0</td><td>0</td><td>17259.233690024164</td><td>-0.03249180330681757</td><td>-0.01154409322948823</td></tr>\n",
       "<tr><td>00_1_170_0</td><td>0</td><td>1</td><td>170</td><td>0</td><td>1</td><td>PXB</td><td>0</td><td>33</td><td>172</td><td>-19250.0</td><td>-61920.816</td><td>0.608774</td><td>0</td><td>active</td><td>a1100</td><td>10.01</td><td>9.64</td><td>5.794e-05</td><td>65.0</td><td>0.10999999999999999</td><td>0.608774</td><td>0.608774</td><td>10000.0</td><td>200</td><td>0</td><td>200</td><td>0</td><td>0.608774</td><td>0.0</td><td>0.0</td><td>0</td><td>0</td><td>17259.233690024164</td><td>-0.03249180330681757</td><td>-0.010101081575802202</td></tr>\n",
       "<tr><td>00_1_170_1</td><td>0</td><td>1</td><td>170</td><td>1</td><td>3</td><td>PXB</td><td>0</td><td>33</td><td>514</td><td>-19250.0</td><td>-61920.816</td><td>0.864924</td><td>0</td><td>active</td><td>a1100</td><td>10.01</td><td>9.64</td><td>5.794e-05</td><td>65.0</td><td>0.10999999999999999</td><td>0.864924</td><td>0.864924</td><td>10000.0</td><td>200</td><td>0</td><td>200</td><td>0</td><td>0.864924</td><td>0.0</td><td>0.0</td><td>0</td><td>0</td><td>17259.233690024164</td><td>-0.03249180330681757</td><td>-0.010101081575802202</td></tr>\n",
       "<tr><td>00_0_163_0</td><td>0</td><td>0</td><td>163</td><td>0</td><td>0</td><td>PXA</td><td>0</td><td>35</td><td>7</td><td>-16500.0</td><td>-61920.816</td><td>0.519749</td><td>0</td><td>active</td><td>a1100</td><td>10.01</td><td>9.64</td><td>5.794e-05</td><td>65.0</td><td>0.10999999999999999</td><td>0.519749</td><td>0.519749</td><td>10000.0</td><td>200</td><td>0</td><td>200</td><td>0</td><td>0.519749</td><td>0.0</td><td>0.0</td><td>0</td><td>0</td><td>17259.233690024164</td><td>-0.03249180330681757</td><td>-0.008658069922116172</td></tr>\n",
       "<tr><td>00_0_163_1</td><td>0</td><td>0</td><td>163</td><td>1</td><td>2</td><td>PXA</td><td>0</td><td>35</td><td>349</td><td>-16500.0</td><td>-61920.816</td><td>0.741011</td><td>0</td><td>active</td><td>a1100</td><td>10.01</td><td>9.64</td><td>5.794e-05</td><td>65.0</td><td>0.10999999999999999</td><td>0.741011</td><td>0.741011</td><td>10000.0</td><td>200</td><td>0</td><td>200</td><td>0</td><td>0.741011</td><td>0.0</td><td>0.0</td><td>0</td><td>0</td><td>17259.233690024164</td><td>-0.03249180330681757</td><td>-0.008658069922116172</td></tr>\n",
       "<tr><td>00_1_159_0</td><td>0</td><td>1</td><td>159</td><td>0</td><td>1</td><td>PXB</td><td>0</td><td>37</td><td>183</td><td>-13750.0</td><td>-61920.816</td><td>0.615225</td><td>0</td><td>active</td><td>a1100</td><td>10.01</td><td>9.64</td><td>5.794e-05</td><td>65.0</td><td>0.10999999999999999</td><td>0.615225</td><td>0.615225</td><td>10000.0</td><td>200</td><td>0</td><td>200</td><td>0</td><td>0.615225</td><td>0.0</td><td>0.0</td><td>0</td><td>0</td><td>17259.233690024164</td><td>-0.03249180330681757</td><td>-0.0072150582684301435</td></tr>\n",
       "<tr><td>00_1_159_1</td><td>0</td><td>1</td><td>159</td><td>1</td><td>3</td><td>PXB</td><td>0</td><td>37</td><td>525</td><td>-13750.0</td><td>-61920.816</td><td>0.873886</td><td>0</td><td>active</td><td>a1100</td><td>10.01</td><td>9.64</td><td>5.794e-05</td><td>65.0</td><td>0.10999999999999999</td><td>0.873886</td><td>0.873886</td><td>10000.0</td><td>200</td><td>0</td><td>200</td><td>0</td><td>0.873886</td><td>0.0</td><td>0.0</td><td>0</td><td>0</td><td>17259.233690024164</td><td>-0.03249180330681757</td><td>-0.0072150582684301435</td></tr>\n",
       "<tr><td>00_0_155_0</td><td>0</td><td>0</td><td>155</td><td>0</td><td>0</td><td>PXA</td><td>0</td><td>39</td><td>15</td><td>-11000.0</td><td>-61920.816</td><td>0.523749</td><td>0</td><td>active</td><td>a1100</td><td>10.01</td><td>9.64</td><td>5.794e-05</td><td>65.0</td><td>0.10999999999999999</td><td>0.523749</td><td>0.523749</td><td>10000.0</td><td>200</td><td>0</td><td>200</td><td>0</td><td>0.523749</td><td>0.0</td><td>0.0</td><td>0</td><td>0</td><td>17259.233690024164</td><td>-0.03249180330681757</td><td>-0.0057720466147441135</td></tr>\n",
       "<tr><td>...</td><td>...</td><td>...</td><td>...</td><td>...</td><td>...</td><td>...</td><td>...</td><td>...</td><td>...</td><td>...</td><td>...</td><td>...</td><td>...</td><td>...</td><td>...</td><td>...</td><td>...</td><td>...</td><td>...</td><td>...</td><td>...</td><td>...</td><td>...</td><td>...</td><td>...</td><td>...</td><td>...</td><td>...</td><td>...</td><td>...</td><td>...</td><td>...</td><td>...</td><td>...</td><td>...</td></tr>\n",
       "<tr><td>12_0_156_0</td><td>12</td><td>0</td><td>156</td><td>0</td><td>0</td><td>PX3</td><td>29</td><td>22</td><td>2</td><td>-7350.0</td><td>65652.867</td><td>0.51893</td><td>0</td><td>active</td><td>a2000</td><td>5.29</td><td>8.34</td><td>0.00011</td><td>42.0</td><td>0.19999999999999998</td><td>0.51893</td><td>0.51893</td><td>10000.0</td><td>200</td><td>0</td><td>200</td><td>0</td><td>0.51893</td><td>0.0</td><td>0.0</td><td>0</td><td>0</td><td>9090.90909090909</td><td>0.03445012806505416</td><td>-0.003856776601669935</td></tr>\n",
       "<tr><td>12_0_156_1</td><td>12</td><td>0</td><td>156</td><td>1</td><td>2</td><td>PX3</td><td>29</td><td>22</td><td>316</td><td>-7350.0</td><td>65652.867</td><td>0.742609</td><td>0</td><td>active</td><td>a2000</td><td>5.29</td><td>8.34</td><td>0.00011</td><td>42.0</td><td>0.19999999999999998</td><td>0.742609</td><td>0.742609</td><td>10000.0</td><td>200</td><td>0</td><td>200</td><td>0</td><td>0.742609</td><td>0.0</td><td>0.0</td><td>0</td><td>0</td><td>9090.90909090909</td><td>0.03445012806505416</td><td>-0.003856776601669935</td></tr>\n",
       "<tr><td>12_1_154_0</td><td>12</td><td>1</td><td>154</td><td>0</td><td>1</td><td>PX4</td><td>29</td><td>24</td><td>160</td><td>-2450.0</td><td>65652.867</td><td>0.61343</td><td>0</td><td>active</td><td>a2000</td><td>5.29</td><td>8.34</td><td>0.00011</td><td>42.0</td><td>0.19999999999999998</td><td>0.61343</td><td>0.61343</td><td>10000.0</td><td>200</td><td>0</td><td>200</td><td>0</td><td>0.61343</td><td>0.0</td><td>0.0</td><td>0</td><td>0</td><td>9090.90909090909</td><td>0.03445012806505416</td><td>-0.001285592200556646</td></tr>\n",
       "<tr><td>12_1_154_1</td><td>12</td><td>1</td><td>154</td><td>1</td><td>3</td><td>PX4</td><td>29</td><td>24</td><td>474</td><td>-2450.0</td><td>65652.867</td><td>0.87379</td><td>0</td><td>active</td><td>a2000</td><td>5.29</td><td>8.34</td><td>0.00011</td><td>42.0</td><td>0.19999999999999998</td><td>0.87379</td><td>0.87379</td><td>10000.0</td><td>200</td><td>0</td><td>200</td><td>0</td><td>0.87379</td><td>0.0</td><td>0.0</td><td>0</td><td>0</td><td>9090.90909090909</td><td>0.03445012806505416</td><td>-0.001285592200556646</td></tr>\n",
       "<tr><td>12_0_155_0</td><td>12</td><td>0</td><td>155</td><td>0</td><td>0</td><td>PX3</td><td>29</td><td>26</td><td>3</td><td>2450.0</td><td>65652.867</td><td>0.519447</td><td>0</td><td>active</td><td>a2000</td><td>5.29</td><td>8.34</td><td>0.00011</td><td>42.0</td><td>0.19999999999999998</td><td>0.519447</td><td>0.519447</td><td>10000.0</td><td>200</td><td>0</td><td>200</td><td>0</td><td>0.519447</td><td>0.0</td><td>0.0</td><td>0</td><td>0</td><td>9090.90909090909</td><td>0.03445012806505416</td><td>0.0012855922005566422</td></tr>\n",
       "<tr><td>12_0_155_1</td><td>12</td><td>0</td><td>155</td><td>1</td><td>2</td><td>PX3</td><td>29</td><td>26</td><td>317</td><td>2450.0</td><td>65652.867</td><td>0.743329</td><td>0</td><td>active</td><td>a2000</td><td>5.29</td><td>8.34</td><td>0.00011</td><td>42.0</td><td>0.19999999999999998</td><td>0.743329</td><td>0.743329</td><td>10000.0</td><td>200</td><td>0</td><td>200</td><td>0</td><td>0.743329</td><td>0.0</td><td>0.0</td><td>0</td><td>0</td><td>9090.90909090909</td><td>0.03445012806505416</td><td>0.0012855922005566422</td></tr>\n",
       "<tr><td>12_1_155_0</td><td>12</td><td>1</td><td>155</td><td>0</td><td>1</td><td>PX4</td><td>29</td><td>28</td><td>159</td><td>7350.0</td><td>65652.867</td><td>0.61282</td><td>0</td><td>active</td><td>a2000</td><td>5.29</td><td>8.34</td><td>0.00011</td><td>42.0</td><td>0.19999999999999998</td><td>0.61282</td><td>0.61282</td><td>10000.0</td><td>200</td><td>0</td><td>200</td><td>0</td><td>0.61282</td><td>0.0</td><td>0.0</td><td>0</td><td>0</td><td>9090.90909090909</td><td>0.03445012806505416</td><td>0.0038567766016699306</td></tr>\n",
       "<tr><td>12_1_155_1</td><td>12</td><td>1</td><td>155</td><td>1</td><td>3</td><td>PX4</td><td>29</td><td>28</td><td>473</td><td>7350.0</td><td>65652.867</td><td>0.872944</td><td>0</td><td>active</td><td>a2000</td><td>5.29</td><td>8.34</td><td>0.00011</td><td>42.0</td><td>0.19999999999999998</td><td>0.872944</td><td>0.872944</td><td>10000.0</td><td>200</td><td>0</td><td>200</td><td>0</td><td>0.872944</td><td>0.0</td><td>0.0</td><td>0</td><td>0</td><td>9090.90909090909</td><td>0.03445012806505416</td><td>0.0038567766016699306</td></tr>\n",
       "<tr><td>12_0_158_0</td><td>12</td><td>0</td><td>158</td><td>0</td><td>0</td><td>PX3</td><td>29</td><td>30</td><td>0</td><td>12250.0</td><td>65652.867</td><td>0.517898</td><td>0</td><td>active</td><td>a2000</td><td>5.29</td><td>8.34</td><td>0.00011</td><td>42.0</td><td>0.19999999999999998</td><td>0.517898</td><td>0.517898</td><td>10000.0</td><td>200</td><td>0</td><td>200</td><td>0</td><td>0.517898</td><td>0.0</td><td>0.0</td><td>0</td><td>0</td><td>9090.90909090909</td><td>0.03445012806505416</td><td>0.006427961002783219</td></tr>\n",
       "<tr><td>12_0_158_1</td><td>12</td><td>0</td><td>158</td><td>1</td><td>2</td><td>PX3</td><td>29</td><td>30</td><td>314</td><td>12250.0</td><td>65652.867</td><td>0.741173</td><td>0</td><td>active</td><td>a2000</td><td>5.29</td><td>8.34</td><td>0.00011</td><td>42.0</td><td>0.19999999999999998</td><td>0.741173</td><td>0.741173</td><td>10000.0</td><td>200</td><td>0</td><td>200</td><td>0</td><td>0.741173</td><td>0.0</td><td>0.0</td><td>0</td><td>0</td><td>9090.90909090909</td><td>0.03445012806505416</td><td>0.006427961002783219</td></tr>\n",
       "</table>"
      ],
      "text/plain": [
       "<QTable length=7718>\n",
       "   uid       nw    pg  ...         x_t                   y_t          \n",
       "                       ...         deg                   deg          \n",
       "  str10    int64 int64 ...       float64               float64        \n",
       "---------- ----- ----- ... -------------------- ----------------------\n",
       "00_0_169_0     0     0 ... -0.03249180330681757   -0.01154409322948823\n",
       "00_0_169_1     0     0 ... -0.03249180330681757   -0.01154409322948823\n",
       "00_1_170_0     0     1 ... -0.03249180330681757  -0.010101081575802202\n",
       "00_1_170_1     0     1 ... -0.03249180330681757  -0.010101081575802202\n",
       "00_0_163_0     0     0 ... -0.03249180330681757  -0.008658069922116172\n",
       "00_0_163_1     0     0 ... -0.03249180330681757  -0.008658069922116172\n",
       "00_1_159_0     0     1 ... -0.03249180330681757 -0.0072150582684301435\n",
       "00_1_159_1     0     1 ... -0.03249180330681757 -0.0072150582684301435\n",
       "00_0_155_0     0     0 ... -0.03249180330681757 -0.0057720466147441135\n",
       "       ...   ...   ... ...                  ...                    ...\n",
       "12_0_156_0    12     0 ...  0.03445012806505416  -0.003856776601669935\n",
       "12_0_156_1    12     0 ...  0.03445012806505416  -0.003856776601669935\n",
       "12_1_154_0    12     1 ...  0.03445012806505416  -0.001285592200556646\n",
       "12_1_154_1    12     1 ...  0.03445012806505416  -0.001285592200556646\n",
       "12_0_155_0    12     0 ...  0.03445012806505416  0.0012855922005566422\n",
       "12_0_155_1    12     0 ...  0.03445012806505416  0.0012855922005566422\n",
       "12_1_155_0    12     1 ...  0.03445012806505416  0.0038567766016699306\n",
       "12_1_155_1    12     1 ...  0.03445012806505416  0.0038567766016699306\n",
       "12_0_158_0    12     0 ...  0.03445012806505416   0.006427961002783219\n",
       "12_0_158_1    12     0 ...  0.03445012806505416   0.006427961002783219"
      ]
     },
     "execution_count": 15,
     "metadata": {},
     "output_type": "execute_result"
    }
   ],
   "source": [
    "simobj = rc.get_instrument_simulator()\n",
    "print(simobj)\n",
    "simobj.table"
   ]
  },
  {
   "cell_type": "code",
   "execution_count": null,
   "id": "american-siemens",
   "metadata": {},
   "outputs": [],
   "source": []
  },
  {
   "cell_type": "code",
   "execution_count": null,
   "id": "according-portal",
   "metadata": {},
   "outputs": [],
   "source": []
  }
 ],
 "metadata": {
  "celltoolbar": "Edit Metadata",
  "kernelspec": {
   "display_name": "Python (tolteca-tutorials)",
   "language": "python",
   "name": "tolteca-tutorials"
  },
  "language_info": {
   "codemirror_mode": {
    "name": "ipython",
    "version": 3
   },
   "file_extension": ".py",
   "mimetype": "text/x-python",
   "name": "python",
   "nbconvert_exporter": "python",
   "pygments_lexer": "ipython3",
   "version": "3.8.8"
  }
 },
 "nbformat": 4,
 "nbformat_minor": 5
}
